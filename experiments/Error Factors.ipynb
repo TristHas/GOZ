{
 "cells": [
  {
   "cell_type": "code",
   "execution_count": null,
   "metadata": {},
   "outputs": [],
   "source": [
    "import tqdm\n",
    "import pickle, json\n",
    "import numpy  as np\n",
    "import pandas as pd\n",
    "import torch\n",
    "from itertools import chain\n",
    "from nltk.corpus import wordnet as wn\n",
    "\n",
    "from src.utils import tosn, get_imcount, get_wrdcount, get_split\n",
    "from src.semantics import GloVe, get_glove, base_glove, select_lemmas\n",
    "from src.tree import get_tree, select_subset, select_split\n",
    "from src.zsl import *\n",
    "\n",
    "import warnings\n",
    "warnings.filterwarnings('ignore')\n",
    "\n",
    "import matplotlib.pyplot as plt\n",
    "plt.style.use('dark_background')\n",
    "%matplotlib inline"
   ]
  },
  {
   "cell_type": "code",
   "execution_count": null,
   "metadata": {},
   "outputs": [],
   "source": [
    "def ilsvrc_sem_df(synswords, glove):\n",
    "    \"\"\"\n",
    "        FOR ILSVRC training set\n",
    "    \"\"\"\n",
    "    df_sem = get_glove(synswords, glove)\n",
    "    df_tr  = base_glove(get_split(\"train\"), glove)\n",
    "    df_sem = pd.concat([df_sem, df_tr])\n",
    "    df_sem = df_sem[~df_sem.index.duplicated()]\n",
    "    return df_sem\n",
    "\n",
    "def ilsvrc_tree_df(synswords, imcounts, min_photo):\n",
    "    \"\"\"\n",
    "        FOR ILSVRC training set\n",
    "    \"\"\"\n",
    "    df = pd.DataFrame({\"photo\": imcounts, \"lemmas\":synswords})\n",
    "    df[\"sem\"]   = df[\"lemmas\"].apply(lambda x:len(x)>0)\n",
    "    df[\"train\"] = False\n",
    "    df[\"train\"][get_split(\"train\")]=True\n",
    "    df[\"test\"]  = (df[\"photo\"]>min_photo) & df[\"sem\"]\n",
    "    df[\"image\"]=True\n",
    "    return df"
   ]
  },
  {
   "cell_type": "code",
   "execution_count": 2,
   "metadata": {},
   "outputs": [
    {
     "name": "stderr",
     "output_type": "stream",
     "text": [
      "100%|██████████| 21845/21845 [00:08<00:00, 2497.00it/s]"
     ]
    },
    {
     "name": "stdout",
     "output_type": "stream",
     "text": [
      "4273 correct lemmas. (36468 lemmas removed). 18058 synsets removed for lack of correct lemmas\n"
     ]
    },
    {
     "name": "stderr",
     "output_type": "stream",
     "text": [
      "\n"
     ]
    }
   ],
   "source": [
    "wrdcounts   = \"./data/materials/wiki_counts\" #\"./data/new_counts\"\n",
    "#glove_cache = \"../../data/word_embeddings/glove_vec\"\n",
    "#glove_type  = \"6B\"\n",
    "\n",
    "glove = GloVe()#glove_cache, glove_type)\n",
    "imcounts = get_imcount()\n",
    "wrdcounts= get_wrdcount(wrdcounts)\n",
    "synsets  = imcounts.index.tolist()\n",
    "lem_cond = {\"wn\":\"base\"}#, \"we\":True}\n",
    "word_cond= {\"min\":500, \"max\":1000000, \"voc\":glove.isin}\n",
    "synswords=select_lemmas(synsets, lem_cond, word_cond, wrdcounts)"
   ]
  },
  {
   "cell_type": "code",
   "execution_count": 4,
   "metadata": {},
   "outputs": [
    {
     "name": "stderr",
     "output_type": "stream",
     "text": [
      "82115it [00:02, 35353.77it/s]\n",
      "100%|██████████| 82115/82115 [00:00<00:00, 125326.73it/s]\n",
      "100%|██████████| 82115/82115 [00:01<00:00, 80624.65it/s]\n"
     ]
    },
    {
     "name": "stdout",
     "output_type": "stream",
     "text": [
      "82115 84427 [60270, 17864, 2982, 999]\n",
      "5611 5816 [674, 956, 2982, 999]\n"
     ]
    },
    {
     "name": "stderr",
     "output_type": "stream",
     "text": [
      "  1%|          | 11/999 [00:00<00:09, 101.11it/s]"
     ]
    },
    {
     "name": "stdout",
     "output_type": "stream",
     "text": [
      "4695 4897 [257, 457, 2982, 999]\n"
     ]
    },
    {
     "name": "stderr",
     "output_type": "stream",
     "text": [
      "100%|██████████| 999/999 [00:09<00:00, 100.69it/s]\n",
      "100%|██████████| 4695/4695 [00:22<00:00, 212.66it/s]\n",
      "4695it [00:42, 110.08it/s]\n"
     ]
    },
    {
     "data": {
      "text/plain": [
       "2229"
      ]
     },
     "execution_count": 4,
     "metadata": {},
     "output_type": "execute_result"
    }
   ],
   "source": [
    "te_selecta = lambda x:x[\"type\"]in [2,3]\n",
    "df_tree = ilsvrc_tree_df(synswords, imcounts, 100)\n",
    "df_sem  = ilsvrc_sem_df(synswords, glove)\n",
    "tree    = get_tree(df_tree)\n",
    "trnodes = get_split(\"train\")\n",
    "tenodes = select_split(tree, te_selecta, set(trnodes))\n",
    "dist, dico = tree.pairwise_dist()\n",
    "len(tenodes)"
   ]
  },
  {
   "cell_type": "code",
   "execution_count": null,
   "metadata": {},
   "outputs": [],
   "source": [
    "nte = 1000\n",
    "tenodes_ = np.random.choice(list(tenodes), nte, replace=False)\n",
    "\n",
    "#tenodes_=get_split(\"2-hops\")"
   ]
  },
  {
   "cell_type": "code",
   "execution_count": 102,
   "metadata": {},
   "outputs": [],
   "source": [
    "\n",
    "dist[range(dist.shape[0]),range(dist.shape[0])]=100\n",
    "\n",
    "tenodes = np.asarray(tenodes_)\n",
    "tenodes_idx = np.asarray([dico[x] for x in tenodes_])\n",
    "trnodes_idx = np.asarray([dico[x] for x in trnodes])\n",
    "\n",
    "dst_tr = dist[trnodes_idx][:,tenodes_idx]\n",
    "dst_te = dist[tenodes_idx][:,tenodes_idx]\n",
    "\n",
    "mintr  = dst_tr.min(0)\n",
    "meantr = dst_tr.mean(0)\n",
    "minte  = dst_te.min(0)\n",
    "meante = dst_te.mean(0)"
   ]
  },
  {
   "cell_type": "code",
   "execution_count": null,
   "metadata": {},
   "outputs": [],
   "source": [
    "v_tr = get_visu(trnodes)\n",
    "s_tr = get_sem(trnodes, df_sem)\n",
    "v_te, s_te, l_te = get_data(tenodes_, df_sem)\n",
    "best = [0]\n",
    "\n",
    "for g in [0,1,10,100, 1000]:\n",
    "    for l in [0,1,10,100, 1000]:\n",
    "        w = get_W(v_tr, s_tr, g, l)\n",
    "        res = scores(v_te, s_te, w)\n",
    "        res = topk(res, 5, l_te)\n",
    "        if res[0]>best[0]:\n",
    "            best=res\n",
    "            G,L=g,l"
   ]
  },
  {
   "cell_type": "code",
   "execution_count": null,
   "metadata": {},
   "outputs": [],
   "source": [
    "w = get_W(v_tr, s_tr, G, L)\n",
    "res = scores(v_te, s_te, w)"
   ]
  },
  {
   "cell_type": "code",
   "execution_count": null,
   "metadata": {},
   "outputs": [],
   "source": [
    "s = pd.Series(acc_per_class(res, l_te, 1), index=tenodes_)\n",
    "mintr  = pd.Series(dst_tr.min(0), index=tenodes_)\n",
    "meantr = pd.Series(dst_tr.mean(0), index=tenodes_)\n",
    "minte  = pd.Series(dst_te.min(0), index=tenodes_)\n",
    "meante = pd.Series(dst_te.mean(0), index=tenodes_)"
   ]
  },
  {
   "cell_type": "code",
   "execution_count": null,
   "metadata": {},
   "outputs": [],
   "source": [
    "lems = synswords.loc[s.index]#s.index.to_series().apply(lambda x: tuple(tosn(x).lemma_names()))\n",
    "imc  = imcounts.loc[s.index]\n",
    "wrdc = lems.apply(lambda x:min(max(wrdcounts[c] for c in x), 10000))\n",
    "df = pd.DataFrame({\"score\":s, \"lems\":lems, \"imc\":imc, \"wrdc\":wrdc,\n",
    "                   \"mintr\":mintr, \"minte\":minte, \"meantr\":meantr, \n",
    "                   \"meante\":meante, \"ratio\":mintr/minte})"
   ]
  },
  {
   "cell_type": "code",
   "execution_count": null,
   "metadata": {},
   "outputs": [],
   "source": [
    "df.plot(y=\"score\", x=\"minte\", kind=\"scatter\", alpha=0.5)"
   ]
  },
  {
   "cell_type": "code",
   "execution_count": null,
   "metadata": {},
   "outputs": [],
   "source": []
  },
  {
   "cell_type": "code",
   "execution_count": null,
   "metadata": {},
   "outputs": [],
   "source": []
  },
  {
   "cell_type": "code",
   "execution_count": null,
   "metadata": {},
   "outputs": [],
   "source": []
  },
  {
   "cell_type": "code",
   "execution_count": null,
   "metadata": {},
   "outputs": [],
   "source": []
  },
  {
   "cell_type": "code",
   "execution_count": null,
   "metadata": {},
   "outputs": [],
   "source": []
  },
  {
   "cell_type": "code",
   "execution_count": null,
   "metadata": {},
   "outputs": [],
   "source": []
  },
  {
   "cell_type": "code",
   "execution_count": null,
   "metadata": {},
   "outputs": [],
   "source": []
  }
 ],
 "metadata": {
  "kernelspec": {
   "display_name": "Python 3",
   "language": "python",
   "name": "python3"
  },
  "language_info": {
   "codemirror_mode": {
    "name": "ipython",
    "version": 3
   },
   "file_extension": ".py",
   "mimetype": "text/x-python",
   "name": "python",
   "nbconvert_exporter": "python",
   "pygments_lexer": "ipython3",
   "version": "3.8.3"
  }
 },
 "nbformat": 4,
 "nbformat_minor": 4
}
