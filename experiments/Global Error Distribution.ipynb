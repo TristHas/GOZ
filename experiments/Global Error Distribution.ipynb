{
 "cells": [
  {
   "cell_type": "code",
   "execution_count": 1,
   "metadata": {},
   "outputs": [],
   "source": [
    "#from zsl_newstore import chunked_adgpm, chunked_eszsl, pp, plot\n",
    "from semantics import select_lemmas, GloVe\n",
    "import warnings\n",
    "warnings.filterwarnings('ignore')\n",
    "import matplotlib.pyplot as plt\n",
    "from utils import *\n",
    "from zsl import *\n",
    "\n",
    "%matplotlib inline"
   ]
  },
  {
   "cell_type": "code",
   "execution_count": 2,
   "metadata": {},
   "outputs": [],
   "source": [
    "def test_eszsl_sample(trnodes, tenodes, df):\n",
    "    v_tr = get_visu(trnodes)\n",
    "    s_tr = get_sem(trnodes, df)\n",
    "    v_te, s_te, l_te = get_data(tenodes, df)\n",
    "    best = [0]\n",
    "    for g in [0,1,10,100, 1000]:\n",
    "        for l in [0,1,10,100, 1000]:\n",
    "            w = get_W(v_tr, s_tr, g, l)\n",
    "            res_ = scores(v_te, s_te, w)\n",
    "            res = topk(res_, 5, l_te)\n",
    "            if res[0]>best[0]:\n",
    "                best=res\n",
    "                ret = res_\n",
    "    return ret, l_te\n",
    "\n",
    "def assess(res, lbl, idx):\n",
    "    result = np.zeros((2,2))\n",
    "    X = res.topk(1)[1].squeeze().cpu().numpy()\n",
    "    X = pd.Series(X, index=lbl.squeeze().cpu().numpy())\n",
    "    X_ = X[idx].dropna().astype(int)\n",
    "    st_se = 1-(adjmat[X_,X_.index]==0).mean()\n",
    "    nost_se = (adjmat[X_,X_.index]==1).mean()\n",
    "    st_nose = 1-(adjmat[X,X.index]==0).mean()\n",
    "    nost_nose = (adjmat[X,X.index]==1).mean()\n",
    "    result[0,0]=nost_nose\n",
    "    result[0,1]=nost_se\n",
    "    result[1,0]=st_nose\n",
    "    result[1,1]=st_se\n",
    "    return result\n",
    "\n",
    "def get_data(synsets, df, storefile, maxsamp=100, ratio=1):\n",
    "    \"\"\"\"\"\"\n",
    "    feats, lbls = [],[]\n",
    "    with h5py.File(storefile, \"r\") as f:\n",
    "        for i,wnid in tqdm.tqdm(enumerate(synsets)):\n",
    "            if wnid in f:\n",
    "                nsamp = min(ceil(f[wnid].shape[0]*ratio), maxsamp)\n",
    "                feat  = f[wnid][:nsamp]\n",
    "                feats += [torch.from_numpy(feat)]\n",
    "                lbls  += [i]*feat.shape[0]\n",
    "    lbls = torch.LongTensor(lbls).cuda().unsqueeze(1)\n",
    "    feats= torch.cat(feats).cuda()\n",
    "    sems = get_sem(synsets, df)\n",
    "    return feats, sems, lbls\n",
    "\n",
    "def build_eszsl_features(tenodes, trnodes, storefile, generalized=False):\n",
    "    df = pd.read_pickle(word_vectors_path)\n",
    "    test_feats, s_te, test_lbls = get_data(tenodes, df, storefile)\n",
    "    if generalized:\n",
    "        tenodes = tenodes+trnodes\n",
    "        s_te = get_sem(tenodes, df)\n",
    "    v_tr = get_visu(trnodes)\n",
    "    s_tr = get_sem(trnodes, df)\n",
    "    adjmat = makeadj(tenodes)\n",
    "    return test_feats, test_lbls, v_tr, s_tr, s_te, adjmat\n",
    "\n",
    "def test_eszsl_sample(trnodes, tenodes, storefile, gen=False):\n",
    "    v_te, l_te, v_tr, s_tr, s_te, adjmat = build_eszsl_features(tenodes, trnodes, storefile, gen)\n",
    "    best = [0]\n",
    "    for g in [0,1,10,100, 1000]:\n",
    "        for l in [0,1,10,100, 1000]:\n",
    "            w = get_W(v_tr, s_tr, g, l)\n",
    "            res_ = scores(v_te, s_te, w)\n",
    "            res = topk(res_, 5, l_te)\n",
    "            if res[0]>best[0]:\n",
    "                best=res\n",
    "                ret = res_\n",
    "    return ret, l_te, adjmat\n",
    "\n",
    "def build_adgpm_features(trnodes, tenodes,storefile,  gen=False):\n",
    "    df = pd.read_pickle(fcgcn_path)\n",
    "    test_feats, s_te, test_lbls = get_data(tenodes, df, storefile)\n",
    "    if gen:\n",
    "        tenodes = tenodes + trnodes \n",
    "        s_te = get_sem(tenodes, df)\n",
    "    adjmat = makeadj(tenodes)\n",
    "    return test_feats, test_lbls, s_te[:,:2048], adjmat\n",
    "\n",
    "def test_adgpm_sample(trnodes, tenodes, storefile, gen=False):\n",
    "    v_te, l_te, s_te, adjmat = build_adgpm_features(trnodes, tenodes, storefile, gen)\n",
    "    best = 0\n",
    "    for g in [0,1,10,100, 1000]:\n",
    "        for l in [0,1,10,100, 1000]:\n",
    "            res_ = v_te.mm(s_te.t())\n",
    "            res = topk(res_, 5, l_te)[0]\n",
    "            if res>best:\n",
    "                best= res\n",
    "                ret = res_\n",
    "    return ret, l_te, adjmat\n",
    "\n",
    "def plot(results):\n",
    "    xlabels = [\"Standard ZSL\", \"Generalized ZSL\"]\n",
    "    ylabels = [\"Linear\", \"GCN\"]\n",
    "    labels  = np.asarray(['Model error', 'Accuracy', 'Visual', 'Structural', 'Semantic'])\n",
    "    colors  = np.asarray(['#cc6600', \"#006600\", \"#cccc00\", '#739900', '#666666'])\n",
    "    idx = np.asarray([0,1,3,2,4])\n",
    "    shadow = True\n",
    "    startangle=90\n",
    "    autopct='%1.1f%%'\n",
    "    lblfont = {'family': 'serif',\n",
    "                    'size': 16,\n",
    "            }\n",
    "\n",
    "    fig, axes = plt.subplots(2,2, figsize=(10,10))\n",
    "\n",
    "    for i,model in enumerate([\"eszsl\", \"gcn\"]):\n",
    "        for j,generalized in enumerate([False, True]):\n",
    "            res = results[(model, generalized)]\n",
    "            x,_,_=axes[i,j].pie(np.asarray(res)[idx], \n",
    "                          #labels=labels[idx], \n",
    "                          colors=colors[idx], \n",
    "                          autopct=autopct, \n",
    "                          shadow=shadow, \n",
    "                          startangle=startangle)\n",
    "            if i==1:\n",
    "                axes[i,j].set_xlabel(xlabels[j], fontdict=lblfont)\n",
    "            if j==0:\n",
    "                axes[i,j].set_ylabel(ylabels[i], fontdict=lblfont)\n",
    "\n",
    "    fig.legend(x, labels[idx], loc=\"center\", fontsize=14)\n",
    "    fig.savefig(\"./data/plots/global_error_distribution\")\n",
    "    \n",
    "def summarize(res):\n",
    "    res = np.concatenate(res)\n",
    "    #res=res[:,0,:,:]\n",
    "    tot = res[1,1,1] - res[0,0,0]\n",
    "    x=np.asarray([(res.take(1,i)-res.take(0,i)).mean() for i,_ in enumerate(res.shape)])\n",
    "    x=x*(tot/x.sum())\n",
    "    res = [1-res[1,1,1], res[0,0,0]] + x.tolist()\n",
    "    return res"
   ]
  },
  {
   "cell_type": "code",
   "execution_count": null,
   "metadata": {},
   "outputs": [],
   "source": [
    "glove = GloVe()\n",
    "wrdcount=get_wrdcount()\n",
    "trnodes = get_split(\"train\")\n",
    "tenodes = get_split(\"2-hops\")\n",
    "adjmat = makeadj(tenodes)\n",
    "df = pd.read_pickle(word_vectors_path)\n",
    "synswords = select_lemmas(tenodes, {\"wn\":\"strict\"}, {\"min\":500, \"max\":10**8, \"voc\":glove.isin}, counter=wrdcount, glove=glove)\n",
    "synsets = synswords[synswords.apply(lambda x:len(x)>0)]\n",
    "idx = synsets.index.map(lambda x:tenodes.index(x)).values"
   ]
  },
  {
   "cell_type": "code",
   "execution_count": 28,
   "metadata": {},
   "outputs": [],
   "source": [
    "cleanstore=\"./data/visu/New_resnet_50_feat\"\n",
    "fullstore = \"/media/tristan/Samsung_T5/resnet_50_feat\"\n",
    "ESZSL_gen,ESZSL_std,GCN_gen,GCN_std = [],[],[],[]\n",
    "\n",
    "for storefile in [fullstore, cleanstore]:\n",
    "    ret, lbl, adjmat = test_eszsl_sample(trnodes, tenodes, storefile, True)\n",
    "    res = assess(ret, lbl, idx)\n",
    "    ESZSL_gen.append(res[None,:,:])\n",
    "    ret, lbl, adjmat = test_eszsl_sample(trnodes, tenodes, storefile, False)\n",
    "    res = assess(ret, lbl, idx)\n",
    "    ESZSL_std.append(res[None,:,:])\n",
    "    ret, lbl, adjmat = test_adgpm_sample(trnodes, tenodes, storefile, True)\n",
    "    res = assess(ret, lbl, idx)\n",
    "    GCN_gen.append(res[None,:,:])\n",
    "    ret, lbl, adjmat = test_adgpm_sample(trnodes, tenodes, storefile, False)\n",
    "    res = assess(ret, lbl, idx)\n",
    "    GCN_std.append(res[None,:,:])"
   ]
  },
  {
   "cell_type": "code",
   "execution_count": null,
   "metadata": {},
   "outputs": [],
   "source": [
    "res = summarize(GCN_std)\n",
    "\n",
    "results = {(\"gcn\", True):summarize(np.concatenate(GCN_gen)),\n",
    "           (\"gcn\", False):summarize(np.concatenate(GCN_std)),\n",
    "           (\"eszsl\", True):summarize(np.concatenate(ESZSL_gen)),\n",
    "           (\"eszsl\", False):summarize(np.concatenate(ESZSL_std))\n",
    "          }"
   ]
  },
  {
   "cell_type": "code",
   "execution_count": 13,
   "metadata": {},
   "outputs": [
    {
     "data": {
      "image/png": "[encoded data removed]",
      "text/plain": [
       "<Figure size 720x720 with 4 Axes>"
      ]
     },
     "metadata": {},
     "output_type": "display_data"
    }
   ],
   "source": [
    "results = {(\"gcn\", True):   [47.4, 10.3, 5.7,  35.2, 1.4],\n",
    "           (\"gcn\", False):  [49.4, 21.8, 7.1,  18.1, 3.3],\n",
    "           (\"eszsl\", False):[61.0, 14.7, 6.3,  11.9, 6.1],\n",
    "           (\"eszsl\", True): [66.8, 1.8,  3.5,  39.2, 3.6]\n",
    "          }\n",
    "\n",
    "plot(results)"
   ]
  },
  {
   "cell_type": "code",
   "execution_count": null,
   "metadata": {},
   "outputs": [],
   "source": []
  },
  {
   "cell_type": "code",
   "execution_count": null,
   "metadata": {},
   "outputs": [],
   "source": []
  },
  {
   "cell_type": "code",
   "execution_count": null,
   "metadata": {},
   "outputs": [],
   "source": []
  },
  {
   "cell_type": "code",
   "execution_count": null,
   "metadata": {},
   "outputs": [],
   "source": []
  },
  {
   "cell_type": "code",
   "execution_count": null,
   "metadata": {},
   "outputs": [],
   "source": []
  },
  {
   "cell_type": "code",
   "execution_count": null,
   "metadata": {},
   "outputs": [],
   "source": []
  },
  {
   "cell_type": "code",
   "execution_count": null,
   "metadata": {},
   "outputs": [],
   "source": []
  },
  {
   "cell_type": "code",
   "execution_count": null,
   "metadata": {},
   "outputs": [],
   "source": []
  },
  {
   "cell_type": "code",
   "execution_count": null,
   "metadata": {},
   "outputs": [],
   "source": []
  },
  {
   "cell_type": "code",
   "execution_count": null,
   "metadata": {},
   "outputs": [],
   "source": []
  },
  {
   "cell_type": "code",
   "execution_count": null,
   "metadata": {},
   "outputs": [],
   "source": []
  },
  {
   "cell_type": "code",
   "execution_count": null,
   "metadata": {},
   "outputs": [],
   "source": []
  },
  {
   "cell_type": "code",
   "execution_count": null,
   "metadata": {},
   "outputs": [],
   "source": []
  },
  {
   "cell_type": "code",
   "execution_count": null,
   "metadata": {},
   "outputs": [],
   "source": []
  },
  {
   "cell_type": "code",
   "execution_count": null,
   "metadata": {},
   "outputs": [],
   "source": []
  },
  {
   "cell_type": "code",
   "execution_count": null,
   "metadata": {},
   "outputs": [],
   "source": []
  },
  {
   "cell_type": "code",
   "execution_count": null,
   "metadata": {},
   "outputs": [],
   "source": []
  },
  {
   "cell_type": "code",
   "execution_count": null,
   "metadata": {},
   "outputs": [],
   "source": []
  },
  {
   "cell_type": "code",
   "execution_count": null,
   "metadata": {},
   "outputs": [],
   "source": []
  },
  {
   "cell_type": "code",
   "execution_count": null,
   "metadata": {},
   "outputs": [],
   "source": []
  },
  {
   "cell_type": "code",
   "execution_count": null,
   "metadata": {},
   "outputs": [],
   "source": []
  },
  {
   "cell_type": "code",
   "execution_count": null,
   "metadata": {},
   "outputs": [],
   "source": []
  },
  {
   "cell_type": "code",
   "execution_count": null,
   "metadata": {},
   "outputs": [],
   "source": []
  },
  {
   "cell_type": "code",
   "execution_count": null,
   "metadata": {},
   "outputs": [],
   "source": []
  },
  {
   "cell_type": "code",
   "execution_count": null,
   "metadata": {},
   "outputs": [],
   "source": []
  },
  {
   "cell_type": "code",
   "execution_count": null,
   "metadata": {},
   "outputs": [],
   "source": []
  },
  {
   "cell_type": "code",
   "execution_count": null,
   "metadata": {},
   "outputs": [],
   "source": []
  },
  {
   "cell_type": "code",
   "execution_count": null,
   "metadata": {},
   "outputs": [],
   "source": []
  },
  {
   "cell_type": "code",
   "execution_count": null,
   "metadata": {},
   "outputs": [],
   "source": []
  },
  {
   "cell_type": "code",
   "execution_count": null,
   "metadata": {},
   "outputs": [],
   "source": []
  },
  {
   "cell_type": "code",
   "execution_count": null,
   "metadata": {},
   "outputs": [],
   "source": []
  },
  {
   "cell_type": "code",
   "execution_count": null,
   "metadata": {},
   "outputs": [],
   "source": []
  },
  {
   "cell_type": "code",
   "execution_count": null,
   "metadata": {},
   "outputs": [],
   "source": []
  },
  {
   "cell_type": "code",
   "execution_count": null,
   "metadata": {},
   "outputs": [],
   "source": []
  },
  {
   "cell_type": "code",
   "execution_count": null,
   "metadata": {},
   "outputs": [],
   "source": []
  },
  {
   "cell_type": "code",
   "execution_count": null,
   "metadata": {},
   "outputs": [],
   "source": []
  },
  {
   "cell_type": "code",
   "execution_count": null,
   "metadata": {},
   "outputs": [],
   "source": []
  },
  {
   "cell_type": "code",
   "execution_count": null,
   "metadata": {},
   "outputs": [],
   "source": []
  },
  {
   "cell_type": "code",
   "execution_count": null,
   "metadata": {},
   "outputs": [],
   "source": []
  },
  {
   "cell_type": "code",
   "execution_count": null,
   "metadata": {},
   "outputs": [],
   "source": []
  },
  {
   "cell_type": "code",
   "execution_count": null,
   "metadata": {},
   "outputs": [],
   "source": []
  },
  {
   "cell_type": "markdown",
   "metadata": {},
   "source": [
    "# GCN Results"
   ]
  },
  {
   "cell_type": "code",
   "execution_count": null,
   "metadata": {},
   "outputs": [],
   "source": []
  },
  {
   "cell_type": "code",
   "execution_count": null,
   "metadata": {},
   "outputs": [],
   "source": []
  },
  {
   "cell_type": "code",
   "execution_count": null,
   "metadata": {},
   "outputs": [],
   "source": []
  },
  {
   "cell_type": "code",
   "execution_count": null,
   "metadata": {},
   "outputs": [],
   "source": []
  },
  {
   "cell_type": "code",
   "execution_count": null,
   "metadata": {},
   "outputs": [],
   "source": []
  },
  {
   "cell_type": "code",
   "execution_count": null,
   "metadata": {},
   "outputs": [],
   "source": []
  },
  {
   "cell_type": "code",
   "execution_count": null,
   "metadata": {},
   "outputs": [],
   "source": []
  },
  {
   "cell_type": "code",
   "execution_count": null,
   "metadata": {},
   "outputs": [],
   "source": []
  },
  {
   "cell_type": "code",
   "execution_count": null,
   "metadata": {},
   "outputs": [],
   "source": []
  },
  {
   "cell_type": "code",
   "execution_count": null,
   "metadata": {},
   "outputs": [],
   "source": []
  }
 ],
 "metadata": {
  "kernelspec": {
   "display_name": "Python 3",
   "language": "python",
   "name": "python3"
  },
  "language_info": {
   "codemirror_mode": {
    "name": "ipython",
    "version": 3
   },
   "file_extension": ".py",
   "mimetype": "text/x-python",
   "name": "python",
   "nbconvert_exporter": "python",
   "pygments_lexer": "ipython3",
   "version": "3.8.3"
  }
 },
 "nbformat": 4,
 "nbformat_minor": 4
}
