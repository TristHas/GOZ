{
 "cells": [
  {
   "cell_type": "code",
   "execution_count": 1,
   "metadata": {},
   "outputs": [],
   "source": [
    "import tqdm\n",
    "import pickle, os\n",
    "import numpy  as np\n",
    "import pandas as pd\n",
    "\n",
    "from utils import *\n",
    "from tree import get_tree, select_split, select_subset\n",
    "from zsl_newstore import test_adgpm_sample, test_eszsl_sample, pp\n",
    "from semantics import (GloVe, get_glove, \n",
    "                       base_glove, select_lemmas, \n",
    "                       ilsvrc_sem_df, ilsvrc_tree_df) \n",
    "\n",
    "import warnings\n",
    "warnings.filterwarnings('ignore')\n",
    "\n",
    "import matplotlib.pyplot as plt\n",
    "#plt.style.use('dark_background')\n",
    "%matplotlib inline"
   ]
  },
  {
   "cell_type": "code",
   "execution_count": 2,
   "metadata": {},
   "outputs": [],
   "source": [
    "removes = {\n",
    "    \"n00002137\":\"exclude\", #abstraction\n",
    "    \"n07886057\":\"exclude\", #home_brew\n",
    "    \"n07901587\":\"exclude\", #liquor\n",
    "    \n",
    "    # Including\n",
    "    \"n07891726\":\"include\", #wine\n",
    "    \"n07886849\":\"include\", #beer\n",
    "    \"n07911677\":\"include\", #cocktail\n",
    "    \"n00007846\":\"include\", #person\n",
    "          }\n",
    "\n",
    "interesting={\n",
    "    \"visual_property\":\"n04950126\",\n",
    "    \"shape\":\"n00027807\",\n",
    "}\n",
    "\n",
    "def get_what(synsets, wn=\"strict\", we=None, wmin=500, wmax=1000000, imin=0, imax=10**5):\n",
    "    word_cond = {\"min\":wmin, \"max\":wmax, \"voc\":glove.isin}\n",
    "    lem_cond = {}\n",
    "    if we:\n",
    "        lem_cond[\"we\"]=we\n",
    "    if wn:\n",
    "        lem_cond[\"wn\"]=wn\n",
    "    synswords = select_lemmas(synsets, lem_cond, word_cond, counter=wrdcount, glove=glove)\n",
    "    synswords = synswords.reindex(imcount.index)#.fillna(())\n",
    "    synswords = synswords.apply(lambda x: x if x==x else ())\n",
    "    dftree = ilsvrc_tree_df(synswords, imcount, imin, imax)\n",
    "    dfsem  = ilsvrc_sem_df(synswords, glove)\n",
    "    return dftree, dfsem"
   ]
  },
  {
   "cell_type": "code",
   "execution_count": 3,
   "metadata": {},
   "outputs": [],
   "source": [
    "glove = GloVe()\n",
    "imcount = get_imcount()\n",
    "wrdcount= get_wrdcount()\n",
    "te_selecta = lambda x:x[\"type\"]in [2,3]\n",
    "newimcount = pd.read_pickle(\"./new_imcount\")\n",
    "classacc   = pd.read_pickle(\"./class_acc\")\n",
    "allsyns = imcount.index.tolist()\n",
    "allsyns = classacc[classacc>.7].index.tolist()"
   ]
  },
  {
   "cell_type": "code",
   "execution_count": 46,
   "metadata": {},
   "outputs": [
    {
     "data": {
      "text/plain": [
       "(tensor(1.00000e-02 *\n",
       "        -4.9191), tensor(0.2947), tensor(0.2860), tensor(0.1587))"
      ]
     },
     "execution_count": 46,
     "metadata": {},
     "output_type": "execute_result"
    }
   ],
   "source": [
    "def cos(a,b):\n",
    "    a = glove[a]\n",
    "    a = a/a.norm()\n",
    "    b = glove[b]\n",
    "    b = b/b.norm()\n",
    "    return a.dot(b)\n",
    "\n",
    "cos(\"queen\", \"chessman\"), cos(\"queen\", \"england\"), cos(\"queen\", \"female\"), cos(\"queen\", \"aristocrat\")"
   ]
  },
  {
   "cell_type": "code",
   "execution_count": 5,
   "metadata": {},
   "outputs": [],
   "source": [
    "syns = imcount.index.tolist()\n",
    "\n",
    "wrds = chain(*map(lambda x:tosn(x).lemma_names(), syns))\n",
    "wrds = list(filter(lambda x: not (\"_\" in x), wrds))\n"
   ]
  },
  {
   "cell_type": "code",
   "execution_count": 14,
   "metadata": {},
   "outputs": [],
   "source": [
    "w,c = np.unique(wrds, return_counts=True)"
   ]
  },
  {
   "cell_type": "code",
   "execution_count": 15,
   "metadata": {},
   "outputs": [
    {
     "data": {
      "text/plain": [
       "(array(['case', 'anteater', 'stock', 'sleeper', 'screen', 'hall', 'runner',\n",
       "        'jack', 'queen', 'head'], dtype='<U30'),\n",
       " array([6, 6, 6, 7, 7, 7, 8, 8, 9, 9]))"
      ]
     },
     "execution_count": 15,
     "metadata": {},
     "output_type": "execute_result"
    }
   ],
   "source": [
    "x = c.argsort()[-10:]\n",
    "w[x], c[x]"
   ]
  },
  {
   "cell_type": "code",
   "execution_count": 19,
   "metadata": {},
   "outputs": [
    {
     "name": "stdout",
     "output_type": "stream",
     "text": [
      "['queen']\n",
      "['queen', 'queen_regnant', 'female_monarch']\n",
      "['queen']\n",
      "['queen']\n",
      "['king', 'queen', 'world-beater']\n",
      "['queen']\n",
      "['queen']\n",
      "['queen', 'queen_mole_rat']\n",
      "['tabby', 'queen']\n"
     ]
    },
    {
     "data": {
      "text/plain": [
       "[None, None, None, None, None, None, None, None, None]"
      ]
     },
     "execution_count": 19,
     "metadata": {},
     "output_type": "execute_result"
    }
   ],
   "source": [
    "X = list(filter(lambda x:town(x) in syns, wn.synsets(\"queen\")))\n",
    "\n",
    "[print(x.lemma_names()) for x in X]"
   ]
  },
  {
   "cell_type": "code",
   "execution_count": 20,
   "metadata": {},
   "outputs": [
    {
     "name": "stdout",
     "output_type": "stream",
     "text": [
      "the only fertile female in a colony of social insects such as bees and ants and termites; its function is to lay eggs\n",
      "a female sovereign ruler\n",
      "the wife or widow of a king\n",
      "something personified as a woman who is considered the best or most important of her kind\n",
      "a competitor who holds a preeminent position\n",
      "one of four face cards in a deck bearing a picture of a queen\n",
      "(chess) the most powerful piece\n",
      "an especially large mole rat and the only member of a colony of naked mole rats to bear offspring which are sired by only a few males\n",
      "female cat\n"
     ]
    },
    {
     "data": {
      "text/plain": [
       "[None, None, None, None, None, None, None, None, None]"
      ]
     },
     "execution_count": 20,
     "metadata": {},
     "output_type": "execute_result"
    }
   ],
   "source": [
    "[print(x.definition()) for x in X]"
   ]
  },
  {
   "cell_type": "code",
   "execution_count": 37,
   "metadata": {},
   "outputs": [
    {
     "data": {
      "text/plain": [
       "([Synset('female_aristocrat.n.01'),\n",
       "  Synset('aristocrat.n.01'),\n",
       "  Synset('leader.n.01'),\n",
       "  Synset('person.n.01'),\n",
       "  Synset('causal_agent.n.01'),\n",
       "  Synset('organism.n.01'),\n",
       "  Synset('physical_entity.n.01'),\n",
       "  Synset('living_thing.n.01'),\n",
       "  Synset('entity.n.01'),\n",
       "  Synset('whole.n.02'),\n",
       "  Synset('object.n.01')],\n",
       " [Synset('queen_of_england.n.01')])"
      ]
     },
     "execution_count": 37,
     "metadata": {},
     "output_type": "execute_result"
    }
   ],
   "source": [
    "idx = 1\n",
    "list(X[idx].closure(lambda x:x.hypernyms())), list(X[idx].closure(lambda x:x.hyponyms()))"
   ]
  },
  {
   "cell_type": "code",
   "execution_count": 47,
   "metadata": {},
   "outputs": [
    {
     "data": {
      "text/plain": [
       "([Synset('chessman.n.01'),\n",
       "  Synset('man.n.10'),\n",
       "  Synset('game_equipment.n.01'),\n",
       "  Synset('equipment.n.01'),\n",
       "  Synset('instrumentality.n.03'),\n",
       "  Synset('artifact.n.01'),\n",
       "  Synset('whole.n.02'),\n",
       "  Synset('object.n.01'),\n",
       "  Synset('physical_entity.n.01'),\n",
       "  Synset('entity.n.01')],\n",
       " [])"
      ]
     },
     "execution_count": 47,
     "metadata": {},
     "output_type": "execute_result"
    }
   ],
   "source": [
    "idx = 6\n",
    "list(X[idx].closure(lambda x:x.hypernyms())), list(X[idx].closure(lambda x:x.hyponyms()))"
   ]
  },
  {
   "cell_type": "code",
   "execution_count": 9,
   "metadata": {},
   "outputs": [],
   "source": [
    "#glove[\"england\"]\n",
    "#list(X[0].closure(lambda x:x.hypernyms())), list(X[0].closure(lambda x:x.hyponyms()))"
   ]
  },
  {
   "cell_type": "code",
   "execution_count": 10,
   "metadata": {},
   "outputs": [],
   "source": [
    "#hmean = lambda x,y: 2/(1/x + 1/y)\n",
    "#hmean(1.1,70), hmean(7.4, 70.8)\n",
    "#hmean(2.3,60.6), hmean(16.0,79.9)"
   ]
  },
  {
   "cell_type": "code",
   "execution_count": 4,
   "metadata": {},
   "outputs": [
    {
     "data": {
      "text/plain": [
       "Text(0,0.5,'Percentage of words')"
      ]
     },
     "execution_count": 4,
     "metadata": {},
     "output_type": "execute_result"
    },
    {
     "data": {
      "image/png": "[encoded data removed]",
      "text/plain": [
       "<Figure size 432x288 with 1 Axes>"
      ]
     },
     "metadata": {},
     "output_type": "display_data"
    }
   ],
   "source": [
    "syns = imcount.index.tolist()\n",
    "\n",
    "wrds = chain(*map(lambda x:tosn(x).lemma_names(), syns))\n",
    "wrds = set(filter(lambda x: not (\"_\" in x), wrds))\n",
    "\n",
    "x = np.sort(np.asarray(list(map(lambda x:wrdcount[x], wrds))))\n",
    "y = np.arange(x.shape[0])\n",
    "y = 100* y/y.max()\n",
    "\n",
    "plt.plot(x,y)\n",
    "plt.xscale(\"log\")\n",
    "plt.xlabel(\"Word occurence\")\n",
    "plt.ylabel(\"Percentage of words\")"
   ]
  },
  {
   "cell_type": "code",
   "execution_count": null,
   "metadata": {},
   "outputs": [],
   "source": [
    "te_selecta = lambda x:x[\"type\"]in [2,3]\n",
    "te_dist  = \"train\"\n",
    "te_ratio = 1\n",
    "te_nitems= 100\n",
    "ntest = 5\n",
    "res_eszsl, res_adgpm, m = [],[],[]\n",
    "\n",
    "ranges = [(0,25), (25,50), (50,100), (100, 500), \n",
    "          (500,1000), (1000,2000), (2000,3000), \n",
    "          (3000, 5000), (5000, 10000), (10000, 50000),\n",
    "          (50000, 100000)]\n",
    "#ranges = [(3000,4000), (25,50), (50,100), (100, 500), \n",
    "#          (500,1000), (1000,2000), (2000,3000)]\n",
    "#ranges = [(0,25), (25,100), (100, 1000), (10000, 100000)]\n",
    "\n",
    "for x in ranges:\n",
    "    dftree, dfsem = get_what(allsyns, wmin=x[0], wmax=x[1])\n",
    "    tree = get_tree(dftree)\n",
    "    trnodes  = set(dftree[dftree[\"train\"]].index.tolist())\n",
    "    tenodes_ = select_split(tree, te_selecta, trnodes)\n",
    "    #print(x, len(trnodes), len(tenodes_))\n",
    "    for i in range(ntest):\n",
    "        tenodes = np.random.choice(list(tenodes_), 100, replace=False)\n",
    "        eszsl = test_eszsl_sample(trnodes, tenodes, dfsem)\n",
    "        adgpm = test_adgpm_sample(trnodes, tenodes)\n",
    "        m.append(dftree.loc[tenodes][\"lemmas\"].apply(lambda x: max([wrdcount[x_] for x_ in x])).mean())\n",
    "        res_eszsl.append(eszsl)\n",
    "        res_adgpm.append(adgpm)"
   ]
  },
  {
   "cell_type": "code",
   "execution_count": null,
   "metadata": {},
   "outputs": [],
   "source": []
  },
  {
   "cell_type": "code",
   "execution_count": null,
   "metadata": {},
   "outputs": [],
   "source": []
  },
  {
   "cell_type": "code",
   "execution_count": null,
   "metadata": {},
   "outputs": [],
   "source": []
  },
  {
   "cell_type": "code",
   "execution_count": 7,
   "metadata": {},
   "outputs": [],
   "source": [
    "freq_adgpm = [x[0] for x in res_adgpm]\n",
    "freq_eszsl = [x[0] for x in res_eszsl]\n",
    "#plt.scatter(np.log10(m), freq_adgpm, alpha=.5)\n",
    "#plt.scatter(np.log10(m), freq_eszsl, alpha=.5)"
   ]
  },
  {
   "cell_type": "code",
   "execution_count": 17,
   "metadata": {},
   "outputs": [
    {
     "data": {
      "text/plain": [
       "(0.8929226761390285, 2.9511484983175298e-18)"
      ]
     },
     "execution_count": 17,
     "metadata": {},
     "output_type": "execute_result"
    }
   ],
   "source": [
    "from scipy.stats.stats import pearsonr   \n",
    "pearsonr(np.log10(m), freq_eszsl)"
   ]
  },
  {
   "cell_type": "code",
   "execution_count": 19,
   "metadata": {},
   "outputs": [
    {
     "data": {
      "text/plain": [
       "(0.7463138979068116, 4.937738235622482e-10)"
      ]
     },
     "execution_count": 19,
     "metadata": {},
     "output_type": "execute_result"
    }
   ],
   "source": [
    "pearsonr(np.log10(m), freq_adgpm)"
   ]
  },
  {
   "cell_type": "code",
   "execution_count": 22,
   "metadata": {},
   "outputs": [],
   "source": [
    "#plt.scatter(np.log10(m), freq_eszsl, alpha=.5, label=\"GCN\")"
   ]
  },
  {
   "cell_type": "code",
   "execution_count": 11,
   "metadata": {},
   "outputs": [],
   "source": [
    "#wc = np.asarray([wrdcount[i] for i in wrds])"
   ]
  },
  {
   "cell_type": "code",
   "execution_count": 9,
   "metadata": {},
   "outputs": [],
   "source": [
    "#lemmas = chain(*[tosn(x).lemma_names() for x in imcount.index])\n",
    "#wrds = list(filter(lambda x:not(\"_\" in x), lemmas))\n",
    "#Y = [wrdcount[i] for i in wrds]\n",
    "#Y = np.sort(Y)#np.log10()#[::-1]\n",
    "#Y = Y[Y<10**6]\n",
    "#X = np.linspace(0,100,len(Y))\n",
    "#x=axes[0]"
   ]
  },
  {
   "cell_type": "code",
   "execution_count": 10,
   "metadata": {},
   "outputs": [],
   "source": [
    "#x=np.asarray(list(map(lambda x:len(wn.lemmas(x)), wrds)))"
   ]
  },
  {
   "cell_type": "code",
   "execution_count": 11,
   "metadata": {},
   "outputs": [],
   "source": [
    "#(x==1).mean()"
   ]
  },
  {
   "cell_type": "code",
   "execution_count": 12,
   "metadata": {},
   "outputs": [
    {
     "ename": "NameError",
     "evalue": "name 'freq_axis' is not defined",
     "output_type": "error",
     "traceback": [
      "\u001b[0;31m---------------------------------------------------------------------------\u001b[0m",
      "\u001b[0;31mNameError\u001b[0m                                 Traceback (most recent call last)",
      "\u001b[0;32m<ipython-input-12-a9ffcb723d34>\u001b[0m in \u001b[0;36m<module>\u001b[0;34m()\u001b[0m\n\u001b[1;32m      6\u001b[0m \u001b[0;34m\u001b[0m\u001b[0m\n\u001b[1;32m      7\u001b[0m \u001b[0;34m\u001b[0m\u001b[0m\n\u001b[0;32m----> 8\u001b[0;31m \u001b[0maxes\u001b[0m\u001b[0;34m[\u001b[0m\u001b[0;36m0\u001b[0m\u001b[0;34m]\u001b[0m\u001b[0;34m.\u001b[0m\u001b[0mscatter\u001b[0m\u001b[0;34m(\u001b[0m\u001b[0mfreq_axis\u001b[0m\u001b[0;34m,\u001b[0m \u001b[0mfreq_adgpm\u001b[0m\u001b[0;34m,\u001b[0m \u001b[0malpha\u001b[0m\u001b[0;34m=\u001b[0m\u001b[0;36m.5\u001b[0m\u001b[0;34m,\u001b[0m \u001b[0mlabel\u001b[0m\u001b[0;34m=\u001b[0m\u001b[0;34m\"GCN\"\u001b[0m\u001b[0;34m)\u001b[0m\u001b[0;34m\u001b[0m\u001b[0;34m\u001b[0m\u001b[0m\n\u001b[0m\u001b[1;32m      9\u001b[0m \u001b[0maxes\u001b[0m\u001b[0;34m[\u001b[0m\u001b[0;36m0\u001b[0m\u001b[0;34m]\u001b[0m\u001b[0;34m.\u001b[0m\u001b[0mscatter\u001b[0m\u001b[0;34m(\u001b[0m\u001b[0mfreq_axis\u001b[0m\u001b[0;34m,\u001b[0m \u001b[0mfreq_eszsl\u001b[0m\u001b[0;34m,\u001b[0m \u001b[0malpha\u001b[0m\u001b[0;34m=\u001b[0m\u001b[0;36m.5\u001b[0m\u001b[0;34m,\u001b[0m \u001b[0mlabel\u001b[0m\u001b[0;34m=\u001b[0m\u001b[0;34m\"Linear\"\u001b[0m\u001b[0;34m)\u001b[0m\u001b[0;34m\u001b[0m\u001b[0;34m\u001b[0m\u001b[0m\n\u001b[1;32m     10\u001b[0m \u001b[0maxes\u001b[0m\u001b[0;34m[\u001b[0m\u001b[0;36m0\u001b[0m\u001b[0;34m]\u001b[0m\u001b[0;34m.\u001b[0m\u001b[0mset_xscale\u001b[0m\u001b[0;34m(\u001b[0m\u001b[0;34m'log'\u001b[0m\u001b[0;34m)\u001b[0m\u001b[0;34m\u001b[0m\u001b[0;34m\u001b[0m\u001b[0m\n",
      "\u001b[0;31mNameError\u001b[0m: name 'freq_axis' is not defined"
     ]
    },
    {
     "data": {
      "image/png": "[encoded data removed]",
      "text/plain": [
       "<Figure size 720x288 with 2 Axes>"
      ]
     },
     "metadata": {},
     "output_type": "display_data"
    }
   ],
   "source": [
    "fig,axes = plt.subplots(1,2, figsize=(10,4))\n",
    "\n",
    "#axes[0].plot(Y,X)\n",
    "#y = [x[0] for x in res_adgpm]\n",
    "#y = [x[0] for x in res_eszsl]\n",
    "\n",
    "\n",
    "axes[0].scatter(freq_axis, freq_adgpm, alpha=.5, label=\"GCN\")\n",
    "axes[0].scatter(freq_axis, freq_eszsl, alpha=.5, label=\"Linear\")\n",
    "axes[0].set_xscale('log')\n",
    "axes[0].set_xlabel(\"Mean word occurence count\", fontsize=12)\n",
    "axes[0].set_ylabel(\"Accuracy\", fontsize=12)\n",
    "\n",
    "#axes[0].set_xscale('log')\n",
    "#axes[0].set_xlabel(\"Word occurence count\")\n",
    "#axes[0].set_ylabel(\"Percentage of Imagenet classes\")\n",
    "\n",
    "axes[1].scatter(poly_axis, poly_adgpm, alpha=.5)#, label=\"GCN\")\n",
    "axes[1].scatter(poly_axis, poly_eszsl, alpha=.5)#, label=\"Linear\")\n",
    "\n",
    "axes[1].margins(.5,.2)\n",
    "axes[1].set_xlabel(\"Meaning\", fontsize=12)\n",
    "axes[1].set_ylabel(\"Accuracy\", fontsize=12)\n",
    "\n",
    "#fig.legend(loc=\"best\")\n",
    "handles, labels = axes[0].get_legend_handles_labels()\n",
    "legend = fig.legend(handles, labels, loc='upper right', bbox_to_anchor=(0.85,0.95), fontsize=14.)\n",
    "frame = legend.get_frame()\n",
    "frame.set_alpha(1)\n",
    "frame.set_color(\"#e6e6ff\")\n",
    "\n",
    "fig.savefig(\"./data/plots/word_factors\")"
   ]
  },
  {
   "cell_type": "code",
   "execution_count": null,
   "metadata": {},
   "outputs": [],
   "source": []
  },
  {
   "cell_type": "code",
   "execution_count": null,
   "metadata": {},
   "outputs": [],
   "source": []
  },
  {
   "cell_type": "code",
   "execution_count": null,
   "metadata": {},
   "outputs": [],
   "source": []
  },
  {
   "cell_type": "code",
   "execution_count": 5,
   "metadata": {},
   "outputs": [],
   "source": [
    "#dftree, dfsem=get_what(synsets, wn=\"strict\", we=None, wmin=500, wmax=1000000, imin=0, imax=10**5)\n",
    "#synsets=allsyns\n",
    "#wn=\"strict\"\n",
    "#we=None\n",
    "#wmin=500\n",
    "#wmax=1000000\n",
    "#imin=0#500\n",
    "#imax=10**6#10**5\n",
    "#word_cond = {\"min\":wmin, \"max\":wmax, \"voc\":glove.isin}\n",
    "#lem_cond = {}\n",
    "#if we:\n",
    "#    lem_cond[\"we\"]=we\n",
    "#if wn:\n",
    "#   lem_cond[\"wn\"]=wn   \n",
    "#synswords = select_lemmas(synsets, lem_cond, word_cond, counter=wrdcount)\n",
    "#dftree = ilsvrc_tree_df(synswords, imcount, imin, imax)\n",
    "#dfsem  = ilsvrc_sem_df(synswords, glove)\n",
    "\n",
    "#dftree, dfsem = get_what(allsyns, wmin=500, wmax=1000)\n",
    "#tree = get_tree(dftree)\n",
    "#trnodes  = set(dftree[dftree[\"train\"]].index.tolist())\n",
    "#tenodes_ = select_split(tree, te_selecta, trnodes)\n",
    "#print(x, len(trnodes), len(tenodes_))\n",
    "#tenodes = np.random.choice(list(tenodes_), 100, replace=False)\n",
    "#pp(test_eszsl_sample(trnodes, tenodes, dfsem))\n",
    "#pp(test_adgpm_sample(trnodes, tenodes))\n",
    "\n",
    "#synswords.apply(lambda x:len(x)>0)\n",
    "#df = pd.DataFrame({\"photo\": imcount, \"lemmas\":synswords})\n",
    "#df[\"sem\"]   = df[\"lemmas\"].apply(lambda x:len(x)>0)\n",
    "#df[\"lemmas\"]\n",
    "#synswords\n",
    "#imcount\n",
    "#tenodes = select_split(tree, te_selecta, trnodes)\n",
    "#len(tenodes)\n",
    "#s = pd.Series(x, index=tenodes)\n",
    "#x = imcount.loc[tenodes].tolist()\n",
    "#y = test_eszsl_perclass_acc(trnodes, tenodes, dfsem)\n",
    "#plt.scatter(x,y, alpha=.5)\n",
    "\n",
    "from zsl_newstore import *\n",
    "\n",
    "def acc_per_class(res, lbls):\n",
    "    res = (res.topk(1)[1] == lbls).long().sum(1)>0\n",
    "    res = pd.Series(res.cpu().numpy(), index=lbls.squeeze().cpu().numpy())\n",
    "    return res.groupby(res.index).mean().values\n",
    "\n",
    "def test_eszsl_perclass_acc(trnodes, tenodes, df):\n",
    "    v_tr = get_visu(trnodes)\n",
    "    s_tr = get_sem(trnodes, df)\n",
    "    v_te, s_te, l_te = get_data(tenodes, df)\n",
    "    best = [0]\n",
    "    out = None\n",
    "    for g in [0,1,10,100, 1000]:\n",
    "        for l in [0,1,10,100, 1000]:\n",
    "            w = get_W(v_tr, s_tr, g, l)\n",
    "            res = scores(v_te, s_te, w)\n",
    "            tops = topk(res, 5, l_te)\n",
    "            if tops[0]>best[0]:\n",
    "                best=tops\n",
    "                out=acc_per_class(res, l_te)\n",
    "    return out"
   ]
  },
  {
   "cell_type": "code",
   "execution_count": null,
   "metadata": {},
   "outputs": [],
   "source": []
  },
  {
   "cell_type": "code",
   "execution_count": null,
   "metadata": {},
   "outputs": [],
   "source": []
  },
  {
   "cell_type": "code",
   "execution_count": null,
   "metadata": {},
   "outputs": [],
   "source": []
  },
  {
   "cell_type": "code",
   "execution_count": null,
   "metadata": {},
   "outputs": [],
   "source": []
  },
  {
   "cell_type": "code",
   "execution_count": null,
   "metadata": {},
   "outputs": [],
   "source": []
  },
  {
   "cell_type": "code",
   "execution_count": null,
   "metadata": {},
   "outputs": [],
   "source": []
  },
  {
   "cell_type": "code",
   "execution_count": null,
   "metadata": {},
   "outputs": [],
   "source": []
  },
  {
   "cell_type": "code",
   "execution_count": 15,
   "metadata": {},
   "outputs": [],
   "source": [
    "#len(dfsem), len(dftree)\n",
    "#dftree.loc[dfsem.index][\"lemmas\"].apply()\n",
    "#dftree, dfsem = get_what(allsyns, wmin=25, wmax=100)\n",
    "#dftree, dfsem = get_what(allsyns, wmin=0, wmax=25)\n",
    "#dftree, dfsem = get_what(allsyns, wmin=25, wmax=50)\n",
    "#dftree, dfsem = get_what(allsyns, wmin=50, wmax=100)\n",
    "#dftree, dfsem = get_what(allsyns, wmin=100, wmax=500)\n",
    "#dftree, dfsem = get_what(allsyns, wmin=500, wmax=1000)\n",
    "#dftree, dfsem = get_what(allsyns, wmin=1000, wmax=1500)\n",
    "#dftree, dfsem = get_what(allsyns, wmin=1000, wmax=2000)\n",
    "#dftree, dfsem = get_what(allsyns, wmin=2000, wmax=3000)"
   ]
  },
  {
   "cell_type": "code",
   "execution_count": null,
   "metadata": {},
   "outputs": [],
   "source": []
  },
  {
   "cell_type": "code",
   "execution_count": 16,
   "metadata": {},
   "outputs": [],
   "source": [
    "#print(x, pp(test_adgpm_sample(trnodes, tenodes, dfsem)))\n",
    "#pp(test_adgpm_sample(trnodes, tenodes))\n",
    "#res_eszsl"
   ]
  },
  {
   "cell_type": "code",
   "execution_count": null,
   "metadata": {},
   "outputs": [],
   "source": []
  },
  {
   "cell_type": "code",
   "execution_count": null,
   "metadata": {},
   "outputs": [],
   "source": [
    "y = [x[0] for x in res_eszsl]\n",
    "plt.scatter(m, y)"
   ]
  },
  {
   "cell_type": "code",
   "execution_count": null,
   "metadata": {},
   "outputs": [],
   "source": []
  },
  {
   "cell_type": "code",
   "execution_count": null,
   "metadata": {},
   "outputs": [],
   "source": []
  },
  {
   "cell_type": "code",
   "execution_count": null,
   "metadata": {},
   "outputs": [],
   "source": []
  },
  {
   "cell_type": "code",
   "execution_count": null,
   "metadata": {},
   "outputs": [],
   "source": []
  },
  {
   "cell_type": "code",
   "execution_count": null,
   "metadata": {},
   "outputs": [],
   "source": []
  },
  {
   "cell_type": "code",
   "execution_count": null,
   "metadata": {},
   "outputs": [],
   "source": []
  },
  {
   "cell_type": "code",
   "execution_count": null,
   "metadata": {},
   "outputs": [],
   "source": []
  },
  {
   "cell_type": "code",
   "execution_count": null,
   "metadata": {},
   "outputs": [],
   "source": []
  },
  {
   "cell_type": "code",
   "execution_count": null,
   "metadata": {},
   "outputs": [],
   "source": []
  },
  {
   "cell_type": "markdown",
   "metadata": {},
   "source": [
    "# Homonimy"
   ]
  },
  {
   "cell_type": "code",
   "execution_count": 17,
   "metadata": {},
   "outputs": [
    {
     "name": "stderr",
     "output_type": "stream",
     "text": [
      "100%|██████████| 8890/8890 [00:31<00:00, 282.78it/s]\n"
     ]
    },
    {
     "name": "stdout",
     "output_type": "stream",
     "text": [
      "1964 correct lemmas. (15345 lemmas removed). 7112 synsets removed for lack of correct lemmas\n"
     ]
    },
    {
     "name": "stderr",
     "output_type": "stream",
     "text": [
      "82115it [00:01, 43518.55it/s]\n",
      "100%|██████████| 82115/82115 [00:00<00:00, 106907.68it/s]\n",
      "100%|██████████| 82115/82115 [00:01<00:00, 44729.74it/s]\n"
     ]
    },
    {
     "name": "stdout",
     "output_type": "stream",
     "text": [
      "82115 84427 [60270, 19354, 1492, 999]\n",
      "3573 3709 [255, 827, 1492, 999]\n"
     ]
    },
    {
     "name": "stderr",
     "output_type": "stream",
     "text": [
      "  1%|          | 10/999 [00:00<00:10, 91.05it/s]"
     ]
    },
    {
     "name": "stdout",
     "output_type": "stream",
     "text": [
      "3013 3146 [96, 426, 1492, 999]\n"
     ]
    },
    {
     "name": "stderr",
     "output_type": "stream",
     "text": [
      "100%|██████████| 999/999 [00:10<00:00, 92.74it/s]\n",
      "100%|██████████| 3013/3013 [00:11<00:00, 259.84it/s]\n",
      "4it [00:00, 10.48it/s]"
     ]
    },
    {
     "name": "stdout",
     "output_type": "stream",
     "text": [
      "strict True 999 1067\n"
     ]
    },
    {
     "name": "stderr",
     "output_type": "stream",
     "text": [
      "100it [00:03, 28.34it/s]\n",
      "100it [00:00, 1527.30it/s]\n",
      "100it [00:01, 66.71it/s]\n",
      "100it [00:00, 1321.71it/s]\n",
      "100it [00:01, 58.15it/s]\n",
      "100it [00:00, 1119.90it/s]\n",
      "100it [00:01, 64.58it/s]\n",
      "100it [00:00, 1197.33it/s]\n",
      "100it [00:00, 117.32it/s]\n",
      "100it [00:00, 1507.13it/s]\n",
      "100it [00:01, 85.24it/s]\n",
      "100it [00:00, 1213.02it/s]\n",
      "100it [00:00, 208.82it/s]\n",
      "100it [00:00, 1184.61it/s]\n",
      "100it [00:00, 116.68it/s]\n",
      "100it [00:00, 1519.27it/s]\n",
      "100it [00:00, 213.82it/s]\n",
      "100it [00:00, 1530.70it/s]\n",
      "100it [00:00, 123.37it/s]\n",
      "100it [00:00, 1532.40it/s]\n",
      "100it [00:00, 131.42it/s]\n",
      "100it [00:00, 1512.93it/s]\n",
      "100it [00:00, 214.27it/s]\n",
      "100it [00:00, 1231.71it/s]\n",
      "100it [00:00, 201.99it/s]\n",
      "100it [00:00, 1218.80it/s]\n",
      "100it [00:00, 208.31it/s]\n",
      "100it [00:00, 1503.59it/s]\n",
      "100it [00:00, 175.34it/s]\n",
      "100it [00:00, 1544.36it/s]\n",
      "100%|██████████| 8890/8890 [00:19<00:00, 453.94it/s]\n"
     ]
    },
    {
     "name": "stdout",
     "output_type": "stream",
     "text": [
      "1202 correct lemmas. (16107 lemmas removed). 7797 synsets removed for lack of correct lemmas\n"
     ]
    },
    {
     "name": "stderr",
     "output_type": "stream",
     "text": [
      "82115it [00:01, 44186.57it/s]\n",
      "100%|██████████| 82115/82115 [00:00<00:00, 107739.53it/s]\n",
      "100%|██████████| 82115/82115 [00:01<00:00, 43645.04it/s]\n"
     ]
    },
    {
     "name": "stdout",
     "output_type": "stream",
     "text": [
      "82115 84427 [60270, 19895, 951, 999]\n",
      "3023 3133 [200, 873, 951, 999]\n"
     ]
    },
    {
     "name": "stderr",
     "output_type": "stream",
     "text": [
      "  1%|          | 11/999 [00:00<00:09, 106.52it/s]"
     ]
    },
    {
     "name": "stdout",
     "output_type": "stream",
     "text": [
      "2485 2591 [71, 464, 951, 999]\n"
     ]
    },
    {
     "name": "stderr",
     "output_type": "stream",
     "text": [
      "100%|██████████| 999/999 [00:08<00:00, 114.36it/s]\n",
      "100%|██████████| 2485/2485 [00:06<00:00, 393.87it/s]\n",
      "4it [00:00, 25.56it/s]"
     ]
    },
    {
     "name": "stdout",
     "output_type": "stream",
     "text": [
      "not_strict False 999 732\n"
     ]
    },
    {
     "name": "stderr",
     "output_type": "stream",
     "text": [
      "100it [00:06, 14.31it/s]\n",
      "100it [00:00, 1023.84it/s]\n",
      "100it [00:05, 18.35it/s]\n",
      "100it [00:00, 1492.26it/s]\n",
      "100it [00:04, 20.17it/s]\n",
      "100it [00:00, 1180.97it/s]\n",
      "100it [00:04, 22.43it/s]\n",
      "100it [00:00, 1541.72it/s]\n",
      "100it [00:03, 27.87it/s]\n",
      "100it [00:00, 1203.65it/s]\n",
      "100it [00:02, 41.80it/s]\n",
      "100it [00:00, 1238.00it/s]\n",
      "100it [00:02, 43.98it/s]\n",
      "100it [00:00, 1493.96it/s]\n",
      "100it [00:01, 68.46it/s]\n",
      "100it [00:00, 1123.13it/s]\n",
      "100it [00:01, 60.44it/s]\n",
      "100it [00:00, 1187.36it/s]\n",
      "100it [00:01, 52.47it/s]\n",
      "100it [00:00, 1517.84it/s]\n",
      "100it [00:01, 88.56it/s]\n",
      "100it [00:00, 1317.31it/s]\n",
      "100it [00:01, 65.77it/s]\n",
      "100it [00:00, 1551.91it/s]\n",
      "100it [00:01, 81.94it/s]\n",
      "100it [00:00, 1337.37it/s]\n",
      "100it [00:00, 117.27it/s]\n",
      "100it [00:00, 1271.93it/s]\n",
      "100it [00:01, 77.52it/s]\n",
      "100it [00:00, 1428.40it/s]\n"
     ]
    }
   ],
   "source": [
    "te_selecta = lambda x:x[\"type\"]in [2,3]\n",
    "te_dist   = \"train\"\n",
    "te_ratio  = 1\n",
    "te_nitems = 100\n",
    "ntest = 15\n",
    "res_eszsl, res_adgpm, m  = [],[],[]\n",
    "\n",
    "#for wn in [\"strict\"], \"very\", \"not_strict\", \"any\"]:\n",
    "#    for we in [None, True, False]:\n",
    "for wn,we in [(\"strict\", True), (\"not_strict\", False)]:\n",
    "    dftree, dfsem = get_what(allsyns, we=we, wn=wn)\n",
    "    tree = get_tree(dftree)\n",
    "    trnodes  = set(dftree[dftree[\"train\"]].index.tolist())\n",
    "    tenodes_ = select_split(tree, te_selecta, trnodes)\n",
    "    print(wn, we, len(trnodes), len(tenodes_))\n",
    "    for i in range(ntest):\n",
    "        tenodes = np.random.choice(list(tenodes_), 100, replace=False)\n",
    "        eszsl = test_eszsl_sample(trnodes, tenodes, dfsem)\n",
    "        adgpm = test_adgpm_sample(trnodes, tenodes)\n",
    "        m.append((wn, we))\n",
    "        res_eszsl.append(eszsl)\n",
    "        res_adgpm.append(adgpm)"
   ]
  },
  {
   "cell_type": "code",
   "execution_count": 19,
   "metadata": {},
   "outputs": [],
   "source": [
    "poly_adgpm = [x[0] for x in res_adgpm]\n",
    "poly_eszsl = [x[0] for x in res_eszsl]\n",
    "poly_axis  = [\"Primary\"]*15 + [\"Secondary\"]*15"
   ]
  },
  {
   "cell_type": "code",
   "execution_count": 147,
   "metadata": {},
   "outputs": [],
   "source": [
    "tips = sns.load_dataset(\"tips\")\n",
    "#tips\n",
    "x=df.iloc[[5,6,7,8,9,40,41,42,43,44]]\n",
    "x.index=[\"primary\"]*5+[\"secondary\"]*5\n",
    "#x[0].plot()#0,x.index)"
   ]
  },
  {
   "cell_type": "code",
   "execution_count": null,
   "metadata": {},
   "outputs": [],
   "source": [
    "import seaborn as sns\n",
    "\n",
    "df = pd.DataFrame(res_eszsl, index=m)\n",
    "\n",
    "y1= df.iloc[5:10,0].values.tolist()\n",
    "y2= df.iloc[40:45,0].values.tolist()\n",
    "\n",
    "data={\"primary\":y1, \"secondary\":y2}\n",
    "\n",
    "sns.catplot(x=\"meaning\", y=\"accuracy\", order=[\"primary\", \"secondary\"], data=data)"
   ]
  },
  {
   "cell_type": "code",
   "execution_count": 178,
   "metadata": {},
   "outputs": [
    {
     "data": {
      "image/png": "[encoded data removed]",
      "text/plain": [
       "<Figure size 500x500 with 1 Axes>"
      ]
     },
     "metadata": {},
     "output_type": "display_data"
    }
   ],
   "source": [
    "fig, axes = plt.subplots(1,1, figsize=(5,5))\n",
    "x = [\"primary\"]*5 + [\"secondary\"]*5\n",
    "df = pd.DataFrame(res_eszsl, index=m)\n",
    "y1= df.iloc[5:10,0].values.tolist()\n",
    "y2= df.iloc[40:45,0].values.tolist()\n",
    "axes.scatter(x,y1+y2)\n",
    "\n",
    "df = pd.DataFrame(res_adgpm, index=m)\n",
    "y1= df.iloc[5:10,0].values.tolist()\n",
    "y2= df.iloc[40:45,0].values.tolist()\n",
    "axes.scatter(x,y1+y2)\n",
    "#axes.tick_params(axis='x', pad=1)\n",
    "#axes.xaxis.labelpad = 20\n",
    "#fig.subplots_adjust(right=.1)#(right=-1)#, left=0)\n",
    "axes.margins(.5,.2)\n",
    "axes.set_xlabel(\"Meaning\")\n",
    "axes.set_ylabel(\"Accuracy\")\n",
    "fig.savefig(\"./data/plots/word_meaning\")"
   ]
  },
  {
   "cell_type": "code",
   "execution_count": 82,
   "metadata": {},
   "outputs": [
    {
     "data": {
      "text/html": [
       "<div>\n",
       "<style scoped>\n",
       "    .dataframe tbody tr th:only-of-type {\n",
       "        vertical-align: middle;\n",
       "    }\n",
       "\n",
       "    .dataframe tbody tr th {\n",
       "        vertical-align: top;\n",
       "    }\n",
       "\n",
       "    .dataframe thead th {\n",
       "        text-align: right;\n",
       "    }\n",
       "</style>\n",
       "<table border=\"1\" class=\"dataframe\">\n",
       "  <thead>\n",
       "    <tr style=\"text-align: right;\">\n",
       "      <th></th>\n",
       "      <th></th>\n",
       "      <th>0</th>\n",
       "      <th>1</th>\n",
       "      <th>2</th>\n",
       "      <th>3</th>\n",
       "      <th>4</th>\n",
       "    </tr>\n",
       "  </thead>\n",
       "  <tbody>\n",
       "    <tr>\n",
       "      <th rowspan=\"3\" valign=\"top\">strict</th>\n",
       "      <th>NaN</th>\n",
       "      <td>27.203999</td>\n",
       "      <td>39.103998</td>\n",
       "      <td>46.965998</td>\n",
       "      <td>52.727998</td>\n",
       "      <td>57.057998</td>\n",
       "    </tr>\n",
       "    <tr>\n",
       "      <th>True</th>\n",
       "      <td>28.641999</td>\n",
       "      <td>42.331998</td>\n",
       "      <td>50.609998</td>\n",
       "      <td>56.609998</td>\n",
       "      <td>61.051998</td>\n",
       "    </tr>\n",
       "    <tr>\n",
       "      <th>False</th>\n",
       "      <td>27.377999</td>\n",
       "      <td>39.177998</td>\n",
       "      <td>46.463998</td>\n",
       "      <td>51.945998</td>\n",
       "      <td>55.973997</td>\n",
       "    </tr>\n",
       "    <tr>\n",
       "      <th rowspan=\"3\" valign=\"top\">very</th>\n",
       "      <th>NaN</th>\n",
       "      <td>31.309999</td>\n",
       "      <td>43.633999</td>\n",
       "      <td>51.299998</td>\n",
       "      <td>56.727998</td>\n",
       "      <td>60.953999</td>\n",
       "    </tr>\n",
       "    <tr>\n",
       "      <th>True</th>\n",
       "      <td>31.096000</td>\n",
       "      <td>44.895999</td>\n",
       "      <td>53.233999</td>\n",
       "      <td>58.931999</td>\n",
       "      <td>63.429997</td>\n",
       "    </tr>\n",
       "    <tr>\n",
       "      <th>False</th>\n",
       "      <td>30.446000</td>\n",
       "      <td>43.342001</td>\n",
       "      <td>51.064000</td>\n",
       "      <td>56.518000</td>\n",
       "      <td>60.531998</td>\n",
       "    </tr>\n",
       "    <tr>\n",
       "      <th rowspan=\"3\" valign=\"top\">not_strict</th>\n",
       "      <th>NaN</th>\n",
       "      <td>23.662000</td>\n",
       "      <td>31.418000</td>\n",
       "      <td>36.371999</td>\n",
       "      <td>40.043999</td>\n",
       "      <td>43.278000</td>\n",
       "    </tr>\n",
       "    <tr>\n",
       "      <th>True</th>\n",
       "      <td>23.159999</td>\n",
       "      <td>33.535999</td>\n",
       "      <td>40.963999</td>\n",
       "      <td>46.512000</td>\n",
       "      <td>50.865999</td>\n",
       "    </tr>\n",
       "    <tr>\n",
       "      <th>False</th>\n",
       "      <td>21.348000</td>\n",
       "      <td>29.777999</td>\n",
       "      <td>35.381999</td>\n",
       "      <td>39.421999</td>\n",
       "      <td>42.515998</td>\n",
       "    </tr>\n",
       "    <tr>\n",
       "      <th rowspan=\"3\" valign=\"top\">any</th>\n",
       "      <th>NaN</th>\n",
       "      <td>24.467999</td>\n",
       "      <td>34.925999</td>\n",
       "      <td>41.953999</td>\n",
       "      <td>46.863998</td>\n",
       "      <td>50.782000</td>\n",
       "    </tr>\n",
       "    <tr>\n",
       "      <th>True</th>\n",
       "      <td>27.657999</td>\n",
       "      <td>40.593999</td>\n",
       "      <td>48.861999</td>\n",
       "      <td>54.663999</td>\n",
       "      <td>58.996000</td>\n",
       "    </tr>\n",
       "    <tr>\n",
       "      <th>False</th>\n",
       "      <td>25.294000</td>\n",
       "      <td>35.728000</td>\n",
       "      <td>42.566000</td>\n",
       "      <td>47.786000</td>\n",
       "      <td>51.887999</td>\n",
       "    </tr>\n",
       "  </tbody>\n",
       "</table>\n",
       "</div>"
      ],
      "text/plain": [
       "                          0          1          2          3          4\n",
       "strict     NaN    27.203999  39.103998  46.965998  52.727998  57.057998\n",
       "           True   28.641999  42.331998  50.609998  56.609998  61.051998\n",
       "           False  27.377999  39.177998  46.463998  51.945998  55.973997\n",
       "very       NaN    31.309999  43.633999  51.299998  56.727998  60.953999\n",
       "           True   31.096000  44.895999  53.233999  58.931999  63.429997\n",
       "           False  30.446000  43.342001  51.064000  56.518000  60.531998\n",
       "not_strict NaN    23.662000  31.418000  36.371999  40.043999  43.278000\n",
       "           True   23.159999  33.535999  40.963999  46.512000  50.865999\n",
       "           False  21.348000  29.777999  35.381999  39.421999  42.515998\n",
       "any        NaN    24.467999  34.925999  41.953999  46.863998  50.782000\n",
       "           True   27.657999  40.593999  48.861999  54.663999  58.996000\n",
       "           False  25.294000  35.728000  42.566000  47.786000  51.887999"
      ]
     },
     "execution_count": 82,
     "metadata": {},
     "output_type": "execute_result"
    }
   ],
   "source": [
    "df = pd.DataFrame(res_eszsl, index=m)\n",
    "ref = {x:i for i,x in enumerate(df.index.unique().tolist())}\n",
    "invref = {i:x for i,x in enumerate(df.index.unique().tolist())}\n",
    "x = df.groupby(df.index.map(lambda x:ref[x])).apply(lambda x:x.mean())\n",
    "x.index = x.index.map(lambda x:invref[x])\n",
    "x"
   ]
  },
  {
   "cell_type": "code",
   "execution_count": 37,
   "metadata": {},
   "outputs": [],
   "source": [
    "#classacc.sort_values().plot()"
   ]
  },
  {
   "cell_type": "code",
   "execution_count": null,
   "metadata": {},
   "outputs": [],
   "source": []
  },
  {
   "cell_type": "code",
   "execution_count": null,
   "metadata": {},
   "outputs": [],
   "source": []
  },
  {
   "cell_type": "code",
   "execution_count": null,
   "metadata": {},
   "outputs": [],
   "source": [
    "    df = pd.read_pickle(\"./data/homonimy/\"+x)\n",
    "    df_sem = pd.read_pickle(\"./data/homonimy/\"+x+\"_sem\")\n",
    "    df[\"word_ok\"]=df[\"sem\"]\n",
    "    df[\"image\"]=True\n",
    "    tree = WnTree(df)\n",
    "    tree = tree.prune_empty_branches()\n",
    "    tree = tree.prune_dummy_nodes()\n",
    "    print(len(tree.nodes), len(tree.edges), count_tpe(tree))\n",
    "    trnodes = set(df[df[\"train\"]].index.tolist())\n",
    "    tenodes_ = select_split(tree, te_selecta, trnodes)\n",
    "    print(len(tenodes_))\n",
    "    \n",
    "    tenodes  = select_subset(tree, tenodes_, te_dist, te_nitems, te_ratio)\n",
    "    print(x, pp(test_class(trnodes, tenodes, df_sem)))\n",
    "    print(x, pp(test_sample(trnodes, tenodes, df_sem)))\n",
    "    \n",
    "    tenodes = np.random.choice(list(tenodes_), 100, replace=False)\n",
    "    print(x, pp(test_class(trnodes, tenodes, df_sem)))\n",
    "    print(x, pp(test_sample(trnodes, tenodes, df_sem)))"
   ]
  },
  {
   "cell_type": "markdown",
   "metadata": {},
   "source": [
    "# Lemma scarcity"
   ]
  },
  {
   "cell_type": "code",
   "execution_count": 5,
   "metadata": {},
   "outputs": [
    {
     "name": "stderr",
     "output_type": "stream",
     "text": [
      "82115it [00:03, 24205.30it/s]\n",
      "100%|██████████| 82115/82115 [00:00<00:00, 219968.10it/s]\n",
      "100%|██████████| 82115/82115 [00:01<00:00, 80866.25it/s]\n",
      "  2%|▏         | 17/1000 [00:00<00:05, 168.41it/s]"
     ]
    },
    {
     "name": "stdout",
     "output_type": "stream",
     "text": [
      "3035 3157 [135, 607, 1293, 1000]\n"
     ]
    },
    {
     "name": "stderr",
     "output_type": "stream",
     "text": [
      "100%|██████████| 1000/1000 [00:06<00:00, 166.65it/s]\n",
      "100%|██████████| 3035/3035 [00:07<00:00, 432.97it/s]\n"
     ]
    },
    {
     "name": "stdout",
     "output_type": "stream",
     "text": [
      "1152\n"
     ]
    },
    {
     "name": "stderr",
     "output_type": "stream",
     "text": [
      "100%|██████████| 3035/3035 [00:00<00:00, 80538.24it/s]\n",
      "100%|██████████| 3035/3035 [00:00<00:00, 537050.70it/s]\n",
      "3035it [00:00, 86731.21it/s]\n",
      "8it [00:00, 65.49it/s]"
     ]
    },
    {
     "name": "stdout",
     "output_type": "stream",
     "text": [
      "10  31.00 | 41.00 | 44.00 | 54.00 | 57.00 \n"
     ]
    },
    {
     "name": "stderr",
     "output_type": "stream",
     "text": [
      "100it [00:01, 59.89it/s]\n"
     ]
    },
    {
     "name": "stdout",
     "output_type": "stream",
     "text": [
      "10  18.97 | 26.90 | 32.75 | 37.45 | 41.18 \n"
     ]
    },
    {
     "name": "stderr",
     "output_type": "stream",
     "text": [
      "9it [00:00, 76.48it/s]"
     ]
    },
    {
     "name": "stdout",
     "output_type": "stream",
     "text": [
      "10  21.00 | 27.00 | 34.00 | 35.00 | 40.00 \n"
     ]
    },
    {
     "name": "stderr",
     "output_type": "stream",
     "text": [
      "100it [00:01, 58.92it/s]\n",
      "10225it [00:00, 102238.88it/s]"
     ]
    },
    {
     "name": "stdout",
     "output_type": "stream",
     "text": [
      "10  12.78 | 19.98 | 25.32 | 29.30 | 32.37 \n"
     ]
    },
    {
     "name": "stderr",
     "output_type": "stream",
     "text": [
      "82115it [00:00, 102118.62it/s]\n",
      "100%|██████████| 82115/82115 [00:00<00:00, 247837.11it/s]\n",
      "100%|██████████| 82115/82115 [00:01<00:00, 81969.31it/s]\n",
      "  1%|          | 11/1000 [00:00<00:09, 104.69it/s]"
     ]
    },
    {
     "name": "stdout",
     "output_type": "stream",
     "text": [
      "4810 5006 [261, 756, 2793, 1000]\n"
     ]
    },
    {
     "name": "stderr",
     "output_type": "stream",
     "text": [
      "100%|██████████| 1000/1000 [00:09<00:00, 104.02it/s]\n",
      "100%|██████████| 4810/4810 [00:22<00:00, 209.15it/s]\n"
     ]
    },
    {
     "name": "stdout",
     "output_type": "stream",
     "text": [
      "2396\n"
     ]
    },
    {
     "name": "stderr",
     "output_type": "stream",
     "text": [
      "100%|██████████| 4810/4810 [00:00<00:00, 81950.61it/s]\n",
      "100%|██████████| 4810/4810 [00:00<00:00, 550556.77it/s]\n",
      "4810it [00:00, 106649.69it/s]\n",
      "13it [00:00, 123.69it/s]"
     ]
    },
    {
     "name": "stdout",
     "output_type": "stream",
     "text": [
      "100  42.00 | 49.00 | 59.00 | 64.00 | 66.00 \n"
     ]
    },
    {
     "name": "stderr",
     "output_type": "stream",
     "text": [
      "100it [00:01, 82.74it/s]\n"
     ]
    },
    {
     "name": "stdout",
     "output_type": "stream",
     "text": [
      "100  22.15 | 34.00 | 41.05 | 46.16 | 49.91 \n"
     ]
    },
    {
     "name": "stderr",
     "output_type": "stream",
     "text": [
      "15it [00:00, 65.59it/s]"
     ]
    },
    {
     "name": "stdout",
     "output_type": "stream",
     "text": [
      "100  31.00 | 39.00 | 45.00 | 49.00 | 54.00 \n"
     ]
    },
    {
     "name": "stderr",
     "output_type": "stream",
     "text": [
      "100it [00:01, 91.06it/s]\n",
      "10175it [00:00, 101738.45it/s]"
     ]
    },
    {
     "name": "stdout",
     "output_type": "stream",
     "text": [
      "100  19.07 | 28.12 | 34.24 | 38.82 | 41.99 \n"
     ]
    },
    {
     "name": "stderr",
     "output_type": "stream",
     "text": [
      "82115it [00:00, 101186.17it/s]\n",
      "100%|██████████| 82115/82115 [00:00<00:00, 106427.80it/s]\n",
      "100%|██████████| 82115/82115 [00:01<00:00, 81707.66it/s]\n",
      "  2%|▏         | 15/1000 [00:00<00:06, 143.52it/s]"
     ]
    },
    {
     "name": "stdout",
     "output_type": "stream",
     "text": [
      "3411 3573 [173, 548, 1690, 1000]\n"
     ]
    },
    {
     "name": "stderr",
     "output_type": "stream",
     "text": [
      "100%|██████████| 1000/1000 [00:06<00:00, 143.28it/s]\n",
      "100%|██████████| 3411/3411 [00:09<00:00, 364.49it/s]\n"
     ]
    },
    {
     "name": "stdout",
     "output_type": "stream",
     "text": [
      "1346\n"
     ]
    },
    {
     "name": "stderr",
     "output_type": "stream",
     "text": [
      "100%|██████████| 3411/3411 [00:00<00:00, 83439.41it/s]\n",
      "100%|██████████| 3411/3411 [00:00<00:00, 560215.01it/s]\n",
      "3411it [00:00, 92650.83it/s]\n",
      "100it [00:00, 711.01it/s]"
     ]
    },
    {
     "name": "stdout",
     "output_type": "stream",
     "text": [
      "1000  40.00 | 54.00 | 59.00 | 66.00 | 69.00 \n"
     ]
    },
    {
     "name": "stderr",
     "output_type": "stream",
     "text": [
      "\n"
     ]
    },
    {
     "name": "stdout",
     "output_type": "stream",
     "text": [
      "1000  24.50 | 37.07 | 44.13 | 49.08 | 53.38 \n"
     ]
    },
    {
     "name": "stderr",
     "output_type": "stream",
     "text": [
      "31it [00:00, 268.00it/s]"
     ]
    },
    {
     "name": "stdout",
     "output_type": "stream",
     "text": [
      "1000  38.00 | 48.00 | 51.00 | 55.00 | 55.00 \n"
     ]
    },
    {
     "name": "stderr",
     "output_type": "stream",
     "text": [
      "100it [00:00, 226.99it/s]\n",
      "10199it [00:00, 101973.32it/s]"
     ]
    },
    {
     "name": "stdout",
     "output_type": "stream",
     "text": [
      "1000  20.44 | 29.41 | 35.14 | 39.32 | 42.82 \n"
     ]
    },
    {
     "name": "stderr",
     "output_type": "stream",
     "text": [
      "82115it [00:00, 103989.87it/s]\n",
      "100%|██████████| 82115/82115 [00:00<00:00, 243117.46it/s]\n",
      "100%|██████████| 82115/82115 [00:01<00:00, 81699.31it/s]\n",
      "  2%|▎         | 25/1000 [00:00<00:04, 240.15it/s]"
     ]
    },
    {
     "name": "stdout",
     "output_type": "stream",
     "text": [
      "2065 2177 [95, 375, 595, 1000]\n"
     ]
    },
    {
     "name": "stderr",
     "output_type": "stream",
     "text": [
      "100%|██████████| 1000/1000 [00:04<00:00, 241.28it/s]\n",
      "100%|██████████| 2065/2065 [00:01<00:00, 1234.67it/s]\n"
     ]
    },
    {
     "name": "stdout",
     "output_type": "stream",
     "text": [
      "399\n"
     ]
    },
    {
     "name": "stderr",
     "output_type": "stream",
     "text": [
      "100%|██████████| 2065/2065 [00:00<00:00, 83567.19it/s]\n",
      "100%|██████████| 2065/2065 [00:00<00:00, 612188.14it/s]\n",
      "2065it [00:00, 83425.52it/s]\n",
      "33it [00:00, 311.65it/s]"
     ]
    },
    {
     "name": "stdout",
     "output_type": "stream",
     "text": [
      "10000  39.00 | 43.00 | 50.00 | 55.00 | 56.00 \n"
     ]
    },
    {
     "name": "stderr",
     "output_type": "stream",
     "text": [
      "100it [00:00, 349.65it/s]\n"
     ]
    },
    {
     "name": "stdout",
     "output_type": "stream",
     "text": [
      "10000  21.37 | 28.75 | 34.02 | 37.80 | 40.91 \n"
     ]
    },
    {
     "name": "stderr",
     "output_type": "stream",
     "text": [
      "24it [00:00, 203.58it/s]"
     ]
    },
    {
     "name": "stdout",
     "output_type": "stream",
     "text": [
      "10000  30.00 | 34.00 | 41.00 | 46.00 | 50.00 \n"
     ]
    },
    {
     "name": "stderr",
     "output_type": "stream",
     "text": [
      "100it [00:00, 285.71it/s]\n"
     ]
    },
    {
     "name": "stdout",
     "output_type": "stream",
     "text": [
      "10000  16.83 | 23.92 | 29.74 | 34.10 | 38.12 \n"
     ]
    }
   ],
   "source": [
    "te_selecta = lambda x:x[\"type\"]in [2,3]\n",
    "te_dist  = \"train\"\n",
    "te_ratio = 1\n",
    "te_nitems= 100\n",
    "\n",
    "for x in [10, 100, 1000, 10000]:\n",
    "    df = pd.read_pickle(\"./data/lemma_count/df_{}\".format(x))\n",
    "    df_sem = pd.read_pickle(\"./data/lemma_count/df_{}_sem\".format(x))\n",
    "    df[\"word_ok\"]=df[\"sem\"]\n",
    "    df[\"image\"]=True\n",
    "    tree = WnTree(df)\n",
    "    tree = tree.prune_empty_branches()\n",
    "    tree = tree.prune_dummy_nodes()\n",
    "    print(len(tree.nodes), len(tree.edges), count_tpe(tree))\n",
    "    \n",
    "    trnodes = set(df[df[\"train\"]].index.tolist())\n",
    "    tenodes_ = select_split(tree, te_selecta, trnodes)\n",
    "    print(len(tenodes_))\n",
    "\n",
    "    tenodes  = select_subset(tree, tenodes_, te_dist, te_nitems, te_ratio)\n",
    "    print(x, pp(test_class(trnodes, tenodes, df_sem)))\n",
    "    print(x, pp(test_sample(trnodes, tenodes, df_sem)))\n",
    "    \n",
    "    tenodes = np.random.choice(list(tenodes_), 100, replace=False)\n",
    "    print(x, pp(test_class(trnodes, tenodes, df_sem)))\n",
    "    print(x, pp(test_sample(trnodes, tenodes, df_sem)))"
   ]
  },
  {
   "cell_type": "code",
   "execution_count": null,
   "metadata": {},
   "outputs": [],
   "source": []
  },
  {
   "cell_type": "markdown",
   "metadata": {},
   "source": [
    "# Image count"
   ]
  },
  {
   "cell_type": "code",
   "execution_count": 6,
   "metadata": {},
   "outputs": [
    {
     "name": "stderr",
     "output_type": "stream",
     "text": [
      "82115it [00:00, 103159.15it/s]\n",
      "100%|██████████| 82115/82115 [00:00<00:00, 235124.32it/s]\n",
      "100%|██████████| 82115/82115 [00:01<00:00, 80192.94it/s]\n",
      "  3%|▎         | 32/1000 [00:00<00:03, 319.05it/s]"
     ]
    },
    {
     "name": "stdout",
     "output_type": "stream",
     "text": [
      "1635 1726 [62, 421, 152, 1000]\n"
     ]
    },
    {
     "name": "stderr",
     "output_type": "stream",
     "text": [
      "100%|██████████| 1000/1000 [00:03<00:00, 319.32it/s]\n",
      "100%|██████████| 1635/1635 [00:00<00:00, 3623.38it/s]\n"
     ]
    },
    {
     "name": "stdout",
     "output_type": "stream",
     "text": [
      "143\n"
     ]
    },
    {
     "name": "stderr",
     "output_type": "stream",
     "text": [
      "100%|██████████| 1635/1635 [00:00<00:00, 87235.72it/s]\n",
      "100%|██████████| 1635/1635 [00:00<00:00, 631986.64it/s]\n",
      "1635it [00:00, 76582.84it/s]\n",
      "14it [00:00, 131.04it/s]"
     ]
    },
    {
     "name": "stdout",
     "output_type": "stream",
     "text": [
      "0  20.00 | 27.00 | 28.00 | 31.00 | 34.00 \n"
     ]
    },
    {
     "name": "stderr",
     "output_type": "stream",
     "text": [
      "100it [00:00, 105.73it/s]\n"
     ]
    },
    {
     "name": "stdout",
     "output_type": "stream",
     "text": [
      "0  11.25 | 15.25 | 19.25 | 22.25 | 24.50 \n"
     ]
    },
    {
     "name": "stderr",
     "output_type": "stream",
     "text": [
      "33it [00:00, 320.17it/s]"
     ]
    },
    {
     "name": "stdout",
     "output_type": "stream",
     "text": [
      "0  16.00 | 22.00 | 26.00 | 29.00 | 34.00 \n"
     ]
    },
    {
     "name": "stderr",
     "output_type": "stream",
     "text": [
      "100it [00:00, 354.86it/s]\n",
      "10331it [00:00, 103295.81it/s]"
     ]
    },
    {
     "name": "stdout",
     "output_type": "stream",
     "text": [
      "0  10.80 | 15.73 | 20.42 | 23.24 | 27.70 \n"
     ]
    },
    {
     "name": "stderr",
     "output_type": "stream",
     "text": [
      "82115it [00:00, 105842.07it/s]\n",
      "100%|██████████| 82115/82115 [00:00<00:00, 241444.84it/s]\n",
      "100%|██████████| 82115/82115 [00:01<00:00, 81135.39it/s]\n",
      "  3%|▎         | 26/1000 [00:00<00:03, 255.82it/s]"
     ]
    },
    {
     "name": "stdout",
     "output_type": "stream",
     "text": [
      "1912 2006 [92, 468, 352, 1000]\n"
     ]
    },
    {
     "name": "stderr",
     "output_type": "stream",
     "text": [
      "100%|██████████| 1000/1000 [00:03<00:00, 258.32it/s]\n",
      "100%|██████████| 1912/1912 [00:01<00:00, 1463.12it/s]\n"
     ]
    },
    {
     "name": "stdout",
     "output_type": "stream",
     "text": [
      "336\n"
     ]
    },
    {
     "name": "stderr",
     "output_type": "stream",
     "text": [
      "100%|██████████| 1912/1912 [00:00<00:00, 84635.94it/s]\n",
      "100%|██████████| 1912/1912 [00:00<00:00, 609292.60it/s]\n",
      "1912it [00:00, 75491.23it/s]\n",
      "11it [00:00, 104.23it/s]"
     ]
    },
    {
     "name": "stdout",
     "output_type": "stream",
     "text": [
      "10  19.00 | 27.00 | 33.00 | 36.00 | 39.00 \n"
     ]
    },
    {
     "name": "stderr",
     "output_type": "stream",
     "text": [
      "100it [00:01, 94.30it/s]\n"
     ]
    },
    {
     "name": "stdout",
     "output_type": "stream",
     "text": [
      "10  9.11 | 15.46 | 20.00 | 24.34 | 27.53 \n"
     ]
    },
    {
     "name": "stderr",
     "output_type": "stream",
     "text": [
      "14it [00:00, 138.84it/s]"
     ]
    },
    {
     "name": "stdout",
     "output_type": "stream",
     "text": [
      "10  16.00 | 19.00 | 23.00 | 23.00 | 27.00 \n"
     ]
    },
    {
     "name": "stderr",
     "output_type": "stream",
     "text": [
      "100it [00:00, 106.06it/s]\n",
      "10170it [00:00, 101684.34it/s]"
     ]
    },
    {
     "name": "stdout",
     "output_type": "stream",
     "text": [
      "10  7.11 | 11.25 | 14.84 | 17.51 | 19.86 \n"
     ]
    },
    {
     "name": "stderr",
     "output_type": "stream",
     "text": [
      "82115it [00:00, 104384.46it/s]\n",
      "100%|██████████| 82115/82115 [00:00<00:00, 238018.91it/s]\n",
      "100%|██████████| 82115/82115 [00:01<00:00, 80751.56it/s]\n",
      "  2%|▏         | 16/1000 [00:00<00:06, 158.06it/s]"
     ]
    },
    {
     "name": "stdout",
     "output_type": "stream",
     "text": [
      "2985 3129 [170, 564, 1251, 1000]\n"
     ]
    },
    {
     "name": "stderr",
     "output_type": "stream",
     "text": [
      "100%|██████████| 1000/1000 [00:06<00:00, 156.19it/s]\n",
      "100%|██████████| 2985/2985 [00:06<00:00, 438.45it/s]\n"
     ]
    },
    {
     "name": "stdout",
     "output_type": "stream",
     "text": [
      "1082\n"
     ]
    },
    {
     "name": "stderr",
     "output_type": "stream",
     "text": [
      "100%|██████████| 2985/2985 [00:00<00:00, 82770.82it/s]\n",
      "100%|██████████| 2985/2985 [00:00<00:00, 566977.51it/s]\n",
      "2985it [00:00, 88450.54it/s]\n",
      "100it [00:00, 758.10it/s]"
     ]
    },
    {
     "name": "stdout",
     "output_type": "stream",
     "text": [
      "100  32.00 | 47.00 | 57.00 | 61.00 | 61.00 \n"
     ]
    },
    {
     "name": "stderr",
     "output_type": "stream",
     "text": [
      "\n"
     ]
    },
    {
     "name": "stdout",
     "output_type": "stream",
     "text": [
      "100  18.10 | 29.11 | 35.87 | 40.88 | 44.05 \n"
     ]
    },
    {
     "name": "stderr",
     "output_type": "stream",
     "text": [
      "36it [00:00, 345.32it/s]"
     ]
    },
    {
     "name": "stdout",
     "output_type": "stream",
     "text": [
      "100  26.00 | 32.00 | 42.00 | 49.00 | 51.00 \n"
     ]
    },
    {
     "name": "stderr",
     "output_type": "stream",
     "text": [
      "100it [00:00, 299.46it/s]\n",
      "10242it [00:00, 102404.47it/s]"
     ]
    },
    {
     "name": "stdout",
     "output_type": "stream",
     "text": [
      "100  15.73 | 24.04 | 29.49 | 33.57 | 36.56 \n"
     ]
    },
    {
     "name": "stderr",
     "output_type": "stream",
     "text": [
      "82115it [00:00, 102914.95it/s]\n",
      "100%|██████████| 82115/82115 [00:00<00:00, 243970.27it/s]\n",
      "100%|██████████| 82115/82115 [00:00<00:00, 82757.78it/s]\n",
      "  2%|▏         | 16/1000 [00:00<00:06, 156.27it/s]"
     ]
    },
    {
     "name": "stdout",
     "output_type": "stream",
     "text": [
      "3252 3406 [154, 438, 1660, 1000]\n"
     ]
    },
    {
     "name": "stderr",
     "output_type": "stream",
     "text": [
      "100%|██████████| 1000/1000 [00:06<00:00, 157.08it/s]\n",
      "100%|██████████| 3252/3252 [00:07<00:00, 428.00it/s]\n"
     ]
    },
    {
     "name": "stdout",
     "output_type": "stream",
     "text": [
      "1200\n"
     ]
    },
    {
     "name": "stderr",
     "output_type": "stream",
     "text": [
      "100%|██████████| 3252/3252 [00:00<00:00, 80327.18it/s]\n",
      "100%|██████████| 3252/3252 [00:00<00:00, 570443.59it/s]\n",
      "3252it [00:00, 92381.05it/s]\n",
      "100it [00:00, 1764.48it/s]"
     ]
    },
    {
     "name": "stdout",
     "output_type": "stream",
     "text": [
      "1000  46.00 | 62.00 | 69.00 | 76.00 | 81.00 \n"
     ]
    },
    {
     "name": "stderr",
     "output_type": "stream",
     "text": [
      "\n"
     ]
    },
    {
     "name": "stdout",
     "output_type": "stream",
     "text": [
      "1000  27.46 | 41.39 | 49.21 | 54.97 | 59.37 \n"
     ]
    },
    {
     "name": "stderr",
     "output_type": "stream",
     "text": [
      "38it [00:00, 370.71it/s]"
     ]
    },
    {
     "name": "stdout",
     "output_type": "stream",
     "text": [
      "1000  43.00 | 55.00 | 62.00 | 67.00 | 73.00 \n"
     ]
    },
    {
     "name": "stderr",
     "output_type": "stream",
     "text": [
      "100it [00:00, 463.05it/s]\n"
     ]
    },
    {
     "name": "stdout",
     "output_type": "stream",
     "text": [
      "1000  26.53 | 37.04 | 43.29 | 48.05 | 52.21 \n"
     ]
    }
   ],
   "source": [
    "te_selecta = lambda x:x[\"type\"]in [2,3]\n",
    "te_dist  = \"train\"\n",
    "te_ratio = 1\n",
    "te_nitems= 100\n",
    "\n",
    "for x in [0, 10, 100, 1000]:\n",
    "    df = pd.read_pickle(\"./data/image_count/df_{}\".format(x))\n",
    "    df_sem = pd.read_pickle(\"./data/image_count/df_{}_sem\".format(x))\n",
    "    df[\"word_ok\"]=df[\"sem\"]\n",
    "    df[\"image\"]=True\n",
    "    \n",
    "    tree = WnTree(df)\n",
    "    tree = tree.prune_empty_branches()\n",
    "    tree = tree.prune_dummy_nodes()\n",
    "    print(len(tree.nodes), len(tree.edges), count_tpe(tree))\n",
    "    \n",
    "    trnodes = set(df[df[\"train\"]].index.tolist())\n",
    "    tenodes_ = select_split(tree, te_selecta, trnodes)\n",
    "    print(len(tenodes_))\n",
    "    \n",
    "    tenodes  = select_subset(tree, tenodes_, te_dist, te_nitems, te_ratio)\n",
    "    print(x, pp(test_class(trnodes, tenodes, df_sem)))\n",
    "    print(x, pp(test_sample(trnodes, tenodes, df_sem)))\n",
    "    \n",
    "    tenodes = np.random.choice(list(tenodes_), 100, replace=False)\n",
    "    print(x, pp(test_class(trnodes, tenodes, df_sem)))\n",
    "    print(x, pp(test_sample(trnodes, tenodes, df_sem)))"
   ]
  },
  {
   "cell_type": "code",
   "execution_count": null,
   "metadata": {},
   "outputs": [],
   "source": []
  },
  {
   "cell_type": "code",
   "execution_count": null,
   "metadata": {},
   "outputs": [],
   "source": []
  },
  {
   "cell_type": "code",
   "execution_count": null,
   "metadata": {},
   "outputs": [],
   "source": []
  },
  {
   "cell_type": "code",
   "execution_count": 10,
   "metadata": {},
   "outputs": [],
   "source": [
    "#print(x, pp(test_class(trnodes, tenodes, df_sem)))\n",
    "#print(x, pp(test_sample(trnodes, tenodes, df_sem)))"
   ]
  },
  {
   "cell_type": "code",
   "execution_count": null,
   "metadata": {},
   "outputs": [],
   "source": []
  },
  {
   "cell_type": "code",
   "execution_count": null,
   "metadata": {},
   "outputs": [],
   "source": []
  },
  {
   "cell_type": "code",
   "execution_count": null,
   "metadata": {},
   "outputs": [],
   "source": []
  },
  {
   "cell_type": "code",
   "execution_count": null,
   "metadata": {},
   "outputs": [],
   "source": []
  },
  {
   "cell_type": "code",
   "execution_count": null,
   "metadata": {},
   "outputs": [],
   "source": []
  },
  {
   "cell_type": "code",
   "execution_count": null,
   "metadata": {},
   "outputs": [],
   "source": []
  },
  {
   "cell_type": "code",
   "execution_count": null,
   "metadata": {},
   "outputs": [],
   "source": []
  },
  {
   "cell_type": "code",
   "execution_count": null,
   "metadata": {},
   "outputs": [],
   "source": []
  },
  {
   "cell_type": "code",
   "execution_count": null,
   "metadata": {},
   "outputs": [],
   "source": []
  },
  {
   "cell_type": "code",
   "execution_count": null,
   "metadata": {},
   "outputs": [],
   "source": []
  },
  {
   "cell_type": "code",
   "execution_count": 7,
   "metadata": {},
   "outputs": [
    {
     "name": "stderr",
     "output_type": "stream",
     "text": [
      "100%|██████████| 3252/3252 [00:00<00:00, 85587.30it/s]\n",
      "100%|██████████| 3252/3252 [00:00<00:00, 580247.44it/s]\n",
      "3252it [00:00, 93384.16it/s]\n"
     ]
    }
   ],
   "source": [
    "te_dist   = \"train\"\n",
    "te_ratio  = 1\n",
    "te_nitems = 100\n",
    "tenodes   = select_subset(tree, tenodes_, te_dist, te_nitems, te_ratio)"
   ]
  },
  {
   "cell_type": "code",
   "execution_count": 8,
   "metadata": {},
   "outputs": [
    {
     "name": "stderr",
     "output_type": "stream",
     "text": [
      "100%|██████████| 3252/3252 [00:00<00:00, 86686.60it/s]\n",
      "100%|██████████| 3252/3252 [00:00<00:00, 558782.33it/s]\n",
      "3252it [00:00, 120397.89it/s]\n",
      "100it [00:00, 1018.71it/s]"
     ]
    },
    {
     "name": "stdout",
     "output_type": "stream",
     "text": [
      "0  42.00 | 54.00 | 63.00 | 68.00 | 69.00 \n"
     ]
    },
    {
     "name": "stderr",
     "output_type": "stream",
     "text": [
      "\n"
     ]
    },
    {
     "name": "stdout",
     "output_type": "stream",
     "text": [
      "0  21.95 | 30.20 | 36.07 | 40.67 | 44.41 \n"
     ]
    },
    {
     "name": "stderr",
     "output_type": "stream",
     "text": [
      "100%|██████████| 3252/3252 [00:00<00:00, 83238.50it/s]\n",
      "100%|██████████| 3252/3252 [00:00<00:00, 542988.72it/s]\n",
      "3252it [00:00, 113304.01it/s]\n",
      "100it [00:00, 2737.76it/s]"
     ]
    },
    {
     "name": "stdout",
     "output_type": "stream",
     "text": [
      "0.2  43.00 | 57.00 | 63.00 | 70.00 | 70.00 \n"
     ]
    },
    {
     "name": "stderr",
     "output_type": "stream",
     "text": [
      "\n"
     ]
    },
    {
     "name": "stdout",
     "output_type": "stream",
     "text": [
      "0.2  21.54 | 30.00 | 36.56 | 41.53 | 45.12 \n"
     ]
    },
    {
     "name": "stderr",
     "output_type": "stream",
     "text": [
      "100%|██████████| 3252/3252 [00:00<00:00, 81360.70it/s]\n",
      "100%|██████████| 3252/3252 [00:00<00:00, 567052.32it/s]\n",
      "3252it [00:00, 109202.88it/s]\n",
      "100it [00:00, 1778.51it/s]"
     ]
    },
    {
     "name": "stdout",
     "output_type": "stream",
     "text": [
      "0.4  38.00 | 49.00 | 56.00 | 62.00 | 66.00 \n"
     ]
    },
    {
     "name": "stderr",
     "output_type": "stream",
     "text": [
      "\n"
     ]
    },
    {
     "name": "stdout",
     "output_type": "stream",
     "text": [
      "0.4  18.45 | 27.15 | 34.08 | 40.20 | 45.04 \n"
     ]
    },
    {
     "name": "stderr",
     "output_type": "stream",
     "text": [
      "100%|██████████| 3252/3252 [00:00<00:00, 83739.82it/s]\n",
      "100%|██████████| 3252/3252 [00:00<00:00, 585101.09it/s]\n",
      "3252it [00:00, 101710.43it/s]\n",
      "100it [00:00, 2751.34it/s]"
     ]
    },
    {
     "name": "stdout",
     "output_type": "stream",
     "text": [
      "0.6  44.00 | 53.00 | 61.00 | 69.00 | 70.00 \n"
     ]
    },
    {
     "name": "stderr",
     "output_type": "stream",
     "text": [
      "\n"
     ]
    },
    {
     "name": "stdout",
     "output_type": "stream",
     "text": [
      "0.6  19.18 | 28.78 | 35.36 | 40.67 | 45.10 \n"
     ]
    },
    {
     "name": "stderr",
     "output_type": "stream",
     "text": [
      "100%|██████████| 3252/3252 [00:00<00:00, 84367.59it/s]\n",
      "100%|██████████| 3252/3252 [00:00<00:00, 591289.95it/s]\n",
      "3252it [00:00, 98685.94it/s]\n",
      "100it [00:00, 2743.04it/s]"
     ]
    },
    {
     "name": "stdout",
     "output_type": "stream",
     "text": [
      "0.8  47.00 | 60.00 | 67.00 | 74.00 | 74.00 \n"
     ]
    },
    {
     "name": "stderr",
     "output_type": "stream",
     "text": [
      "\n"
     ]
    },
    {
     "name": "stdout",
     "output_type": "stream",
     "text": [
      "0.8  21.25 | 33.06 | 41.03 | 46.78 | 51.17 \n"
     ]
    },
    {
     "name": "stderr",
     "output_type": "stream",
     "text": [
      "100%|██████████| 3252/3252 [00:00<00:00, 84791.88it/s]\n",
      "100%|██████████| 3252/3252 [00:00<00:00, 577300.40it/s]\n",
      "3252it [00:00, 92598.04it/s]\n",
      "100it [00:00, 2726.32it/s]"
     ]
    },
    {
     "name": "stdout",
     "output_type": "stream",
     "text": [
      "1  46.00 | 62.00 | 69.00 | 76.00 | 81.00 \n"
     ]
    },
    {
     "name": "stderr",
     "output_type": "stream",
     "text": [
      "\n"
     ]
    },
    {
     "name": "stdout",
     "output_type": "stream",
     "text": [
      "1  27.46 | 41.39 | 49.21 | 54.97 | 59.37 \n"
     ]
    }
   ],
   "source": [
    "te_dist   = \"train\"\n",
    "te_ratio  = 1\n",
    "te_nitems = 100\n",
    "tenodes   = select_subset(tree, tenodes_, te_dist, te_nitems, te_ratio)\n",
    "\n",
    "for te_ratio in [0, 0.2, 0.4, 0.6, 0.8, 1]:\n",
    "    tenodes  = select_subset(tree, tenodes_, te_dist, te_nitems, te_ratio)\n",
    "    print(te_ratio, pp(test_class(trnodes, tenodes, df_sem)))\n",
    "    print(te_ratio, pp(test_sample(trnodes, tenodes, df_sem)))"
   ]
  },
  {
   "cell_type": "code",
   "execution_count": null,
   "metadata": {},
   "outputs": [],
   "source": []
  },
  {
   "cell_type": "code",
   "execution_count": 12,
   "metadata": {},
   "outputs": [],
   "source": []
  },
  {
   "cell_type": "code",
   "execution_count": null,
   "metadata": {},
   "outputs": [],
   "source": []
  },
  {
   "cell_type": "code",
   "execution_count": 63,
   "metadata": {},
   "outputs": [
    {
     "name": "stderr",
     "output_type": "stream",
     "text": [
      "100%|██████████| 4659/4659 [00:00<00:00, 80170.27it/s]\n",
      "100%|██████████| 4659/4659 [00:00<00:00, 558433.47it/s]\n",
      "4659it [00:00, 138360.89it/s]\n",
      "100it [00:00, 2881.02it/s]\n"
     ]
    },
    {
     "name": "stdout",
     "output_type": "stream",
     "text": [
      "0  25.75 | 35.85 | 41.66 | 46.08 | 50.05 \n"
     ]
    },
    {
     "name": "stderr",
     "output_type": "stream",
     "text": [
      "100%|██████████| 4659/4659 [00:00<00:00, 79728.04it/s]\n",
      "100%|██████████| 4659/4659 [00:00<00:00, 534761.71it/s]\n",
      "4659it [00:00, 136109.65it/s]\n",
      "100it [00:00, 2837.75it/s]\n"
     ]
    },
    {
     "name": "stdout",
     "output_type": "stream",
     "text": [
      "0.2  24.34 | 34.83 | 42.02 | 47.82 | 51.92 \n"
     ]
    },
    {
     "name": "stderr",
     "output_type": "stream",
     "text": [
      "100%|██████████| 4659/4659 [00:00<00:00, 80051.38it/s]\n",
      "100%|██████████| 4659/4659 [00:00<00:00, 551545.65it/s]\n",
      "4659it [00:00, 123460.87it/s]\n",
      "100it [00:00, 2817.98it/s]\n"
     ]
    },
    {
     "name": "stdout",
     "output_type": "stream",
     "text": [
      "0.4  24.58 | 35.71 | 42.80 | 48.45 | 52.44 \n"
     ]
    },
    {
     "name": "stderr",
     "output_type": "stream",
     "text": [
      "100%|██████████| 4659/4659 [00:00<00:00, 61003.53it/s]\n",
      "100%|██████████| 4659/4659 [00:00<00:00, 427598.74it/s]\n",
      "4659it [00:00, 88744.86it/s]\n",
      "100it [00:00, 2555.76it/s]\n"
     ]
    },
    {
     "name": "stdout",
     "output_type": "stream",
     "text": [
      "0.6  27.58 | 39.10 | 46.54 | 52.07 | 56.17 \n"
     ]
    },
    {
     "name": "stderr",
     "output_type": "stream",
     "text": [
      "100%|██████████| 4659/4659 [00:00<00:00, 81900.36it/s]\n",
      "100%|██████████| 4659/4659 [00:00<00:00, 528585.09it/s]\n",
      "4659it [00:00, 112262.88it/s]\n",
      "100it [00:00, 2779.16it/s]\n"
     ]
    },
    {
     "name": "stdout",
     "output_type": "stream",
     "text": [
      "0.8  30.63 | 44.25 | 51.68 | 56.77 | 60.84 \n"
     ]
    },
    {
     "name": "stderr",
     "output_type": "stream",
     "text": [
      "100%|██████████| 4659/4659 [00:00<00:00, 82070.63it/s]\n",
      "100%|██████████| 4659/4659 [00:00<00:00, 547911.46it/s]\n",
      "4659it [00:00, 106325.60it/s]\n",
      "100it [00:00, 2684.96it/s]\n"
     ]
    },
    {
     "name": "stdout",
     "output_type": "stream",
     "text": [
      "1  39.02 | 54.11 | 61.58 | 67.37 | 71.08 \n"
     ]
    }
   ],
   "source": [
    "te_dist  = \"train\"\n",
    "te_ratio = 1\n",
    "te_nitems= 100\n",
    "\n",
    "for te_ratio in [0, 0.2, 0.4, 0.6, 0.8, 1]:\n",
    "    tenodes  = select_subset(tree, tenodes_, te_dist, te_nitems, te_ratio)\n",
    "    print(te_ratio, pp(test(trnodes, tenodes)))"
   ]
  },
  {
   "cell_type": "code",
   "execution_count": null,
   "metadata": {},
   "outputs": [],
   "source": []
  },
  {
   "cell_type": "code",
   "execution_count": 64,
   "metadata": {},
   "outputs": [],
   "source": [
    "#test(trnodes, tenodes)"
   ]
  },
  {
   "cell_type": "code",
   "execution_count": 10,
   "metadata": {},
   "outputs": [],
   "source": [
    "te_dist  = \"all\"#\"tmp\"\n",
    "te_ratio = 1\n",
    "te_nitems= 1000\n",
    "#\n",
    "#df.columns\n",
    "tr_selecta = lambda x:x[\"type\"]==3\n",
    "te_selecta = lambda x:x[\"type\"]in [2,3]"
   ]
  },
  {
   "cell_type": "code",
   "execution_count": null,
   "metadata": {},
   "outputs": [],
   "source": []
  },
  {
   "cell_type": "code",
   "execution_count": 8,
   "metadata": {},
   "outputs": [
    {
     "name": "stderr",
     "output_type": "stream",
     "text": [
      "100%|██████████| 1000/1000 [00:20<00:00, 48.00it/s]\n",
      "100%|██████████| 4659/4659 [00:44<00:00, 103.74it/s]\n"
     ]
    }
   ],
   "source": [
    "trnodes = set(df[df[\"train\"]].index.tolist())\n",
    "tenodes_ = select_split(tree, te_selecta, trnodes)"
   ]
  },
  {
   "cell_type": "code",
   "execution_count": 9,
   "metadata": {},
   "outputs": [
    {
     "name": "stderr",
     "output_type": "stream",
     "text": [
      "100%|██████████| 4659/4659 [00:00<00:00, 41033.68it/s]\n",
      "100%|██████████| 4659/4659 [00:00<00:00, 229845.83it/s]\n",
      "4659it [00:00, 19317.45it/s]\n"
     ]
    },
    {
     "data": {
      "text/plain": [
       "(2203, 1000)"
      ]
     },
     "execution_count": 9,
     "metadata": {},
     "output_type": "execute_result"
    }
   ],
   "source": [
    "te_dist  = \"train\"\n",
    "te_ratio = 1\n",
    "tenodes  = select_subset(tree, tenodes_, te_dist, te_nitems, te_ratio)\n",
    "len(tenodes_), len(tenodes)"
   ]
  },
  {
   "cell_type": "markdown",
   "metadata": {},
   "source": [
    "# Evaluate distributions"
   ]
  },
  {
   "cell_type": "code",
   "execution_count": 15,
   "metadata": {},
   "outputs": [
    {
     "name": "stderr",
     "output_type": "stream",
     "text": [
      "100%|██████████| 4659/4659 [00:00<00:00, 39108.34it/s]\n",
      "100%|██████████| 4659/4659 [00:00<00:00, 197014.35it/s]\n",
      "4659it [00:00, 12677.43it/s]\n"
     ]
    },
    {
     "name": "stdout",
     "output_type": "stream",
     "text": [
      "0  17.80 | 25.40 | 29.90 | 32.80 | 35.80 \n"
     ]
    },
    {
     "name": "stderr",
     "output_type": "stream",
     "text": [
      "100%|██████████| 4659/4659 [00:00<00:00, 40667.67it/s]\n",
      "100%|██████████| 4659/4659 [00:00<00:00, 216298.40it/s]\n",
      "4659it [00:00, 12541.00it/s]\n"
     ]
    },
    {
     "name": "stdout",
     "output_type": "stream",
     "text": [
      "0.2  24.30 | 34.50 | 40.60 | 45.90 | 49.50 \n"
     ]
    },
    {
     "name": "stderr",
     "output_type": "stream",
     "text": [
      "100%|██████████| 4659/4659 [00:00<00:00, 38861.33it/s]\n",
      "100%|██████████| 4659/4659 [00:00<00:00, 205810.15it/s]\n",
      "4659it [00:00, 14636.59it/s]\n"
     ]
    },
    {
     "name": "stdout",
     "output_type": "stream",
     "text": [
      "0.4  27.40 | 39.60 | 47.30 | 51.50 | 55.60 \n"
     ]
    },
    {
     "name": "stderr",
     "output_type": "stream",
     "text": [
      "100%|██████████| 4659/4659 [00:00<00:00, 40365.08it/s]\n",
      "100%|██████████| 4659/4659 [00:00<00:00, 211666.49it/s]\n",
      "4659it [00:00, 16069.76it/s]\n"
     ]
    },
    {
     "name": "stdout",
     "output_type": "stream",
     "text": [
      "0.6  28.20 | 39.90 | 46.90 | 52.40 | 57.20 \n"
     ]
    },
    {
     "name": "stderr",
     "output_type": "stream",
     "text": [
      "100%|██████████| 4659/4659 [00:00<00:00, 32541.38it/s]\n",
      "100%|██████████| 4659/4659 [00:00<00:00, 178996.82it/s]\n",
      "4659it [00:00, 17051.83it/s]\n"
     ]
    },
    {
     "name": "stdout",
     "output_type": "stream",
     "text": [
      "0.8  28.00 | 41.00 | 48.20 | 53.70 | 57.40 \n"
     ]
    },
    {
     "name": "stderr",
     "output_type": "stream",
     "text": [
      "100%|██████████| 4659/4659 [00:00<00:00, 40751.21it/s]\n",
      "100%|██████████| 4659/4659 [00:00<00:00, 229986.49it/s]\n",
      "4659it [00:00, 19229.04it/s]\n"
     ]
    },
    {
     "name": "stdout",
     "output_type": "stream",
     "text": [
      "1  25.70 | 38.40 | 45.50 | 50.90 | 54.70 \n"
     ]
    }
   ],
   "source": [
    "te_dist  = \"train\"\n",
    "te_ratio = 1\n",
    "te_nitems= 1000\n",
    "\n",
    "for te_ratio in [0, 0.2, 0.4, 0.6, 0.8, 1]:\n",
    "    tenodes  = select_subset(tree, tenodes_, te_dist, te_nitems, te_ratio)\n",
    "    print(te_ratio, pp(test(trnodes, tenodes)))"
   ]
  },
  {
   "cell_type": "code",
   "execution_count": null,
   "metadata": {},
   "outputs": [],
   "source": [
    "te_dist  = \"train\"\n",
    "te_ratio = 1\n",
    "te_nitems= 1000\n",
    "\n",
    "for te_nitems in [200, 500, 1000, 1500, 2000]:\n",
    "    tenodes  = select_subset(tree, tenodes_, te_dist, te_nitems, te_ratio)\n",
    "    print(te_nitems, pp(test(trnodes, tenodes)))"
   ]
  },
  {
   "cell_type": "code",
   "execution_count": null,
   "metadata": {},
   "outputs": [],
   "source": []
  },
  {
   "cell_type": "code",
   "execution_count": null,
   "metadata": {},
   "outputs": [],
   "source": []
  },
  {
   "cell_type": "code",
   "execution_count": null,
   "metadata": {},
   "outputs": [],
   "source": []
  }
 ],
 "metadata": {
  "kernelspec": {
   "display_name": "Python 3",
   "language": "python",
   "name": "python3"
  },
  "language_info": {
   "codemirror_mode": {
    "name": "ipython",
    "version": 3
   },
   "file_extension": ".py",
   "mimetype": "text/x-python",
   "name": "python",
   "nbconvert_exporter": "python",
   "pygments_lexer": "ipython3",
   "version": "3.8.3"
  }
 },
 "nbformat": 4,
 "nbformat_minor": 4
}
